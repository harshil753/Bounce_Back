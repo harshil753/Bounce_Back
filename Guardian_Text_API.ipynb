{
 "cells": [
  {
   "cell_type": "code",
   "execution_count": 5,
   "metadata": {
    "collapsed": true
   },
   "outputs": [],
   "source": [
    "import json\n",
    "import requests as req\n",
    "import numpy as np\n",
    "import pandas as pd\n",
    "from os import makedirs\n",
    "from datetime import date, timedelta\n",
    "from os.path import join, exists"
   ]
  },
  {
   "cell_type": "code",
   "execution_count": 6,
   "metadata": {},
   "outputs": [
    {
     "name": "stdout",
     "output_type": "stream",
     "text": [
      "http://content.guardianapis.com/search?from-date=2016-03-04&to-date=2016-03-04&order-by=newest&show-fields=all&page-size=200&api-key=8a2fcf01-9a95-4f45-a42f-f467c8bdab27\n"
     ]
    }
   ],
   "source": [
    "#test url\n",
    "url = (\"http://content.guardianapis.com/search?from-date=2016-03-04&to-date=2016-03-04&order-by=newest&show-fields=all&page-size=200&api-key=8a2fcf01-9a95-4f45-a42f-f467c8bdab27\")\n",
    "response = req.get(url)\n",
    "query = url\n",
    "print(query)"
   ]
  },
  {
   "cell_type": "code",
   "execution_count": 59,
   "metadata": {},
   "outputs": [
    {
     "name": "stdout",
     "output_type": "stream",
     "text": [
      "http://content.guardianapis.com/search?q=Procter & Gamble Company (The)&order-by=oldest&show-fields=all&page-size=50&from-date=2017-01-01&api-key=8a2fcf01-9a95-4f45-a42f-f467c8bdab27\n"
     ]
    }
   ],
   "source": [
    "#Test variables\n",
    "base_url = \"http://content.guardianapis.com/search?q=\"\n",
    "query_term = \"Procter & Gamble Company (The)\"\n",
    "sort = \"&order-by=oldest&show-fields=all&page-size=50&\"\n",
    "from_date = \"from-date=2017-01-01&\"\n",
    "to_date = \"to-date=2017-12-31&\"\n",
    "api_key = \"api-key=8a2fcf01-9a95-4f45-a42f-f467c8bdab27\"\n",
    "\n",
    "query_url = base_url + query_term + sort + from_date + to_date + api_key\n",
    "\n",
    "response = req.get(query_url)\n",
    "\n",
    "data = response.json()\n",
    "print(query_url)"
   ]
  },
  {
   "cell_type": "code",
   "execution_count": null,
   "metadata": {
    "collapsed": true
   },
   "outputs": [],
   "source": []
  },
  {
   "cell_type": "code",
   "execution_count": 61,
   "metadata": {},
   "outputs": [
    {
     "name": "stdout",
     "output_type": "stream",
     "text": [
      "50\n"
     ]
    }
   ],
   "source": [
    "# TEST article count\n",
    "article = data['response']['results'] \n",
    "article_count = len(article)\n",
    "print(article_count)"
   ]
  },
  {
   "cell_type": "code",
   "execution_count": 62,
   "metadata": {},
   "outputs": [
    {
     "name": "stdout",
     "output_type": "stream",
     "text": [
      "C:\\Users\\craig\\Desktop\\PythonCode\\python-challenge\\corporate_failure_bounce\\vaderSentiment_master\n"
     ]
    }
   ],
   "source": [
    "cd vaderSentiment_master"
   ]
  },
  {
   "cell_type": "code",
   "execution_count": 63,
   "metadata": {},
   "outputs": [
    {
     "name": "stdout",
     "output_type": "stream",
     "text": [
      "C:\\Users\\craig\\Desktop\\PythonCode\\python-challenge\\corporate_failure_bounce\\vaderSentiment_master\\vaderSentiment\n"
     ]
    }
   ],
   "source": [
    "cd vaderSentiment"
   ]
  },
  {
   "cell_type": "code",
   "execution_count": 64,
   "metadata": {
    "collapsed": true
   },
   "outputs": [],
   "source": [
    "import vaderSentiment"
   ]
  },
  {
   "cell_type": "code",
   "execution_count": 65,
   "metadata": {
    "collapsed": true
   },
   "outputs": [],
   "source": [
    "# Import and Initialize Sentiment Analyzer\n",
    "from vaderSentiment import SentimentIntensityAnalyzer\n",
    "analyzer = SentimentIntensityAnalyzer()"
   ]
  },
  {
   "cell_type": "code",
   "execution_count": 66,
   "metadata": {},
   "outputs": [
    {
     "name": "stdout",
     "output_type": "stream",
     "text": [
      "Compound Score: -0.9966\n",
      "Positive Score: 0.072\n",
      "Neutral Score: 0.831\n",
      "Negative Score: 0.097\n"
     ]
    }
   ],
   "source": [
    "# Test Vader Analysis without  loop\n",
    "\n",
    "Article_Sentiment = (article[1]['fields']['body'])\n",
    "compound = analyzer.polarity_scores(Article_Sentiment)[\"compound\"]\n",
    "pos = analyzer.polarity_scores(Article_Sentiment)[\"pos\"]\n",
    "neu = analyzer.polarity_scores(Article_Sentiment)[\"neu\"]\n",
    "neg = analyzer.polarity_scores(Article_Sentiment)[\"neg\"]\n",
    "            \n",
    "            # Print Analysis\n",
    "print(\"Compound Score: %s\" % compound)\n",
    "print(\"Positive Score: %s\" % pos)\n",
    "print(\"Neutral Score: %s\" % neu)\n",
    "print(\"Negative Score: %s\" % neg)"
   ]
  },
  {
   "cell_type": "code",
   "execution_count": 51,
   "metadata": {},
   "outputs": [
    {
     "name": "stdout",
     "output_type": "stream",
     "text": [
      "0.999\n"
     ]
    }
   ],
   "source": [
    "Sentiment_Summation = compound \n",
    "print(Sentiment_Summation)"
   ]
  },
  {
   "cell_type": "code",
   "execution_count": 71,
   "metadata": {},
   "outputs": [
    {
     "name": "stdout",
     "output_type": "stream",
     "text": [
      "C:\\Users\\craig\\Desktop\\PythonCode\\python-challenge\\corporate_failure_bounce\n"
     ]
    }
   ],
   "source": [
    "cd .."
   ]
  },
  {
   "cell_type": "code",
   "execution_count": 72,
   "metadata": {},
   "outputs": [
    {
     "data": {
      "text/html": [
       "<div>\n",
       "<style>\n",
       "    .dataframe thead tr:only-child th {\n",
       "        text-align: right;\n",
       "    }\n",
       "\n",
       "    .dataframe thead th {\n",
       "        text-align: left;\n",
       "    }\n",
       "\n",
       "    .dataframe tbody tr th {\n",
       "        vertical-align: top;\n",
       "    }\n",
       "</style>\n",
       "<table border=\"1\" class=\"dataframe\">\n",
       "  <thead>\n",
       "    <tr style=\"text-align: right;\">\n",
       "      <th></th>\n",
       "      <th>Ticker</th>\n",
       "      <th>Name</th>\n",
       "      <th>Opening Price</th>\n",
       "      <th>Closing Price</th>\n",
       "      <th>Week 0</th>\n",
       "      <th>Week 1</th>\n",
       "    </tr>\n",
       "  </thead>\n",
       "  <tbody>\n",
       "    <tr>\n",
       "      <th>0</th>\n",
       "      <td>AAP</td>\n",
       "      <td>Advance Auto Parts Inc</td>\n",
       "      <td>35.51</td>\n",
       "      <td>26.97</td>\n",
       "      <td>10/10/08</td>\n",
       "      <td>10/17/08</td>\n",
       "    </tr>\n",
       "    <tr>\n",
       "      <th>1</th>\n",
       "      <td>AAP</td>\n",
       "      <td>Advance Auto Parts Inc</td>\n",
       "      <td>85.57</td>\n",
       "      <td>66.68</td>\n",
       "      <td>5/18/12</td>\n",
       "      <td>5/25/12</td>\n",
       "    </tr>\n",
       "    <tr>\n",
       "      <th>2</th>\n",
       "      <td>AAP</td>\n",
       "      <td>Advance Auto Parts Inc</td>\n",
       "      <td>198.71</td>\n",
       "      <td>161.62</td>\n",
       "      <td>11/13/15</td>\n",
       "      <td>11/20/15</td>\n",
       "    </tr>\n",
       "    <tr>\n",
       "      <th>3</th>\n",
       "      <td>ABC</td>\n",
       "      <td>AmerisourceBergen Corporation (Holding Co)</td>\n",
       "      <td>36.14</td>\n",
       "      <td>29.45</td>\n",
       "      <td>10/10/08</td>\n",
       "      <td>10/17/08</td>\n",
       "    </tr>\n",
       "    <tr>\n",
       "      <th>4</th>\n",
       "      <td>ABC</td>\n",
       "      <td>AmerisourceBergen Corporation (Holding Co)</td>\n",
       "      <td>36.31</td>\n",
       "      <td>18.31</td>\n",
       "      <td>6/19/09</td>\n",
       "      <td>6/26/09</td>\n",
       "    </tr>\n",
       "  </tbody>\n",
       "</table>\n",
       "</div>"
      ],
      "text/plain": [
       "  Ticker                                        Name  Opening Price  \\\n",
       "0    AAP                      Advance Auto Parts Inc          35.51   \n",
       "1    AAP                      Advance Auto Parts Inc          85.57   \n",
       "2    AAP                      Advance Auto Parts Inc         198.71   \n",
       "3    ABC  AmerisourceBergen Corporation (Holding Co)          36.14   \n",
       "4    ABC  AmerisourceBergen Corporation (Holding Co)          36.31   \n",
       "\n",
       "   Closing Price    Week 0    Week 1  \n",
       "0          26.97  10/10/08  10/17/08  \n",
       "1          66.68   5/18/12   5/25/12  \n",
       "2         161.62  11/13/15  11/20/15  \n",
       "3          29.45  10/10/08  10/17/08  \n",
       "4          18.31   6/19/09   6/26/09  "
      ]
     },
     "execution_count": 72,
     "metadata": {},
     "output_type": "execute_result"
    }
   ],
   "source": [
    "# Import csv to stock_price_pd\n",
    "stock_price_pd = pd.read_csv(\"price drop 3.csv\")\n",
    "stock_price_pd.head()"
   ]
  },
  {
   "cell_type": "code",
   "execution_count": 73,
   "metadata": {},
   "outputs": [
    {
     "data": {
      "text/html": [
       "<div>\n",
       "<style>\n",
       "    .dataframe thead tr:only-child th {\n",
       "        text-align: right;\n",
       "    }\n",
       "\n",
       "    .dataframe thead th {\n",
       "        text-align: left;\n",
       "    }\n",
       "\n",
       "    .dataframe tbody tr th {\n",
       "        vertical-align: top;\n",
       "    }\n",
       "</style>\n",
       "<table border=\"1\" class=\"dataframe\">\n",
       "  <thead>\n",
       "    <tr style=\"text-align: right;\">\n",
       "      <th></th>\n",
       "      <th>Ticker</th>\n",
       "      <th>Name</th>\n",
       "      <th>Opening Price</th>\n",
       "      <th>Closing Price</th>\n",
       "      <th>Week 0</th>\n",
       "      <th>Week 1</th>\n",
       "      <th>Article_Count</th>\n",
       "      <th>Sentiment_Summation</th>\n",
       "      <th>Article_Avg_Sentiment</th>\n",
       "    </tr>\n",
       "  </thead>\n",
       "  <tbody>\n",
       "    <tr>\n",
       "      <th>0</th>\n",
       "      <td>AAP</td>\n",
       "      <td>Advance Auto Parts Inc</td>\n",
       "      <td>35.51</td>\n",
       "      <td>26.97</td>\n",
       "      <td>10/10/08</td>\n",
       "      <td>10/17/08</td>\n",
       "      <td></td>\n",
       "      <td></td>\n",
       "      <td></td>\n",
       "    </tr>\n",
       "    <tr>\n",
       "      <th>1</th>\n",
       "      <td>AAP</td>\n",
       "      <td>Advance Auto Parts Inc</td>\n",
       "      <td>85.57</td>\n",
       "      <td>66.68</td>\n",
       "      <td>5/18/12</td>\n",
       "      <td>5/25/12</td>\n",
       "      <td></td>\n",
       "      <td></td>\n",
       "      <td></td>\n",
       "    </tr>\n",
       "    <tr>\n",
       "      <th>2</th>\n",
       "      <td>AAP</td>\n",
       "      <td>Advance Auto Parts Inc</td>\n",
       "      <td>198.71</td>\n",
       "      <td>161.62</td>\n",
       "      <td>11/13/15</td>\n",
       "      <td>11/20/15</td>\n",
       "      <td></td>\n",
       "      <td></td>\n",
       "      <td></td>\n",
       "    </tr>\n",
       "    <tr>\n",
       "      <th>3</th>\n",
       "      <td>ABC</td>\n",
       "      <td>AmerisourceBergen Corporation (Holding Co)</td>\n",
       "      <td>36.14</td>\n",
       "      <td>29.45</td>\n",
       "      <td>10/10/08</td>\n",
       "      <td>10/17/08</td>\n",
       "      <td></td>\n",
       "      <td></td>\n",
       "      <td></td>\n",
       "    </tr>\n",
       "    <tr>\n",
       "      <th>4</th>\n",
       "      <td>ABC</td>\n",
       "      <td>AmerisourceBergen Corporation (Holding Co)</td>\n",
       "      <td>36.31</td>\n",
       "      <td>18.31</td>\n",
       "      <td>6/19/09</td>\n",
       "      <td>6/26/09</td>\n",
       "      <td></td>\n",
       "      <td></td>\n",
       "      <td></td>\n",
       "    </tr>\n",
       "  </tbody>\n",
       "</table>\n",
       "</div>"
      ],
      "text/plain": [
       "  Ticker                                        Name  Opening Price  \\\n",
       "0    AAP                      Advance Auto Parts Inc          35.51   \n",
       "1    AAP                      Advance Auto Parts Inc          85.57   \n",
       "2    AAP                      Advance Auto Parts Inc         198.71   \n",
       "3    ABC  AmerisourceBergen Corporation (Holding Co)          36.14   \n",
       "4    ABC  AmerisourceBergen Corporation (Holding Co)          36.31   \n",
       "\n",
       "   Closing Price    Week 0    Week 1 Article_Count Sentiment_Summation  \\\n",
       "0          26.97  10/10/08  10/17/08                                     \n",
       "1          66.68   5/18/12   5/25/12                                     \n",
       "2         161.62  11/13/15  11/20/15                                     \n",
       "3          29.45  10/10/08  10/17/08                                     \n",
       "4          18.31   6/19/09   6/26/09                                     \n",
       "\n",
       "  Article_Avg_Sentiment  \n",
       "0                        \n",
       "1                        \n",
       "2                        \n",
       "3                        \n",
       "4                        "
      ]
     },
     "execution_count": 73,
     "metadata": {},
     "output_type": "execute_result"
    }
   ],
   "source": [
    "#Add columns for Article Description\n",
    "stock_price_pd[\"Article_Count\"] = \"\"\n",
    "stock_price_pd[\"Sentiment_Summation\"] = \"\"\n",
    "stock_price_pd[\"Article_Avg_Sentiment\"] = \"\"\n",
    "stock_price_pd.head()"
   ]
  },
  {
   "cell_type": "code",
   "execution_count": 74,
   "metadata": {},
   "outputs": [
    {
     "name": "stdout",
     "output_type": "stream",
     "text": [
      "http://content.guardianapis.com/search?q=Procter & Gamble Company (The)&order-by=oldest&show-fields=all&page-size=50&from-date=2017-01-01&to-date=2017-12-31&api-key=8a2fcf01-9a95-4f45-a42f-f467c8bdab27\n",
      "http://content.guardianapis.com/search?from-date=2016-03-04&to-date=2016-03-04&order-by=newest&show-fields=all&page-size=200&api-key=8a2fcf01-9a95-4f45-a42f-f467c8bdab27\n",
      "http://content.guardianapis.com/search?from-date=2016-03-04&to-date=2016-03-04&order-by=newest&show-fields=all&page-size=200&api-key=8a2fcf01-9a95-4f45-a42f-f467c8bdab27\n"
     ]
    },
    {
     "ename": "KeyboardInterrupt",
     "evalue": "",
     "output_type": "error",
     "traceback": [
      "\u001b[1;31m---------------------------------------------------------------------------\u001b[0m",
      "\u001b[1;31mKeyboardInterrupt\u001b[0m                         Traceback (most recent call last)",
      "\u001b[1;32m<ipython-input-74-794dffcf8cae>\u001b[0m in \u001b[0;36m<module>\u001b[1;34m()\u001b[0m\n\u001b[0;32m     46\u001b[0m         \u001b[0mcompound\u001b[0m \u001b[1;33m=\u001b[0m \u001b[0manalyzer\u001b[0m\u001b[1;33m.\u001b[0m\u001b[0mpolarity_scores\u001b[0m\u001b[1;33m(\u001b[0m\u001b[0mArticle_Sentiment\u001b[0m\u001b[1;33m)\u001b[0m\u001b[1;33m[\u001b[0m\u001b[1;34m\"compound\"\u001b[0m\u001b[1;33m]\u001b[0m\u001b[1;33m\u001b[0m\u001b[0m\n\u001b[0;32m     47\u001b[0m         \u001b[0mpos\u001b[0m \u001b[1;33m=\u001b[0m \u001b[0manalyzer\u001b[0m\u001b[1;33m.\u001b[0m\u001b[0mpolarity_scores\u001b[0m\u001b[1;33m(\u001b[0m\u001b[0mArticle_Sentiment\u001b[0m\u001b[1;33m)\u001b[0m\u001b[1;33m[\u001b[0m\u001b[1;34m\"pos\"\u001b[0m\u001b[1;33m]\u001b[0m\u001b[1;33m\u001b[0m\u001b[0m\n\u001b[1;32m---> 48\u001b[1;33m         \u001b[0mneu\u001b[0m \u001b[1;33m=\u001b[0m \u001b[0manalyzer\u001b[0m\u001b[1;33m.\u001b[0m\u001b[0mpolarity_scores\u001b[0m\u001b[1;33m(\u001b[0m\u001b[0mArticle_Sentiment\u001b[0m\u001b[1;33m)\u001b[0m\u001b[1;33m[\u001b[0m\u001b[1;34m\"neu\"\u001b[0m\u001b[1;33m]\u001b[0m\u001b[1;33m\u001b[0m\u001b[0m\n\u001b[0m\u001b[0;32m     49\u001b[0m         \u001b[0mneg\u001b[0m \u001b[1;33m=\u001b[0m \u001b[0manalyzer\u001b[0m\u001b[1;33m.\u001b[0m\u001b[0mpolarity_scores\u001b[0m\u001b[1;33m(\u001b[0m\u001b[0mArticle_Sentiment\u001b[0m\u001b[1;33m)\u001b[0m\u001b[1;33m[\u001b[0m\u001b[1;34m\"neg\"\u001b[0m\u001b[1;33m]\u001b[0m\u001b[1;33m\u001b[0m\u001b[0m\n\u001b[0;32m     50\u001b[0m \u001b[1;33m\u001b[0m\u001b[0m\n",
      "\u001b[1;32m~\\Desktop\\PythonCode\\python-challenge\\corporate_failure_bounce\\vaderSentiment_master\\vaderSentiment\\vaderSentiment.py\u001b[0m in \u001b[0;36mpolarity_scores\u001b[1;34m(self, text)\u001b[0m\n\u001b[0;32m    216\u001b[0m         \u001b[0mvalence\u001b[0m\u001b[1;33m.\u001b[0m\u001b[1;33m\u001b[0m\u001b[0m\n\u001b[0;32m    217\u001b[0m         \"\"\"\n\u001b[1;32m--> 218\u001b[1;33m         \u001b[0msentitext\u001b[0m \u001b[1;33m=\u001b[0m \u001b[0mSentiText\u001b[0m\u001b[1;33m(\u001b[0m\u001b[0mtext\u001b[0m\u001b[1;33m)\u001b[0m\u001b[1;33m\u001b[0m\u001b[0m\n\u001b[0m\u001b[0;32m    219\u001b[0m         \u001b[1;31m#text, words_and_emoticons, is_cap_diff = self.preprocess(text)\u001b[0m\u001b[1;33m\u001b[0m\u001b[1;33m\u001b[0m\u001b[0m\n\u001b[0;32m    220\u001b[0m \u001b[1;33m\u001b[0m\u001b[0m\n",
      "\u001b[1;32m~\\Desktop\\PythonCode\\python-challenge\\corporate_failure_bounce\\vaderSentiment_master\\vaderSentiment\\vaderSentiment.py\u001b[0m in \u001b[0;36m__init__\u001b[1;34m(self, text)\u001b[0m\n\u001b[0;32m    150\u001b[0m             \u001b[0mtext\u001b[0m \u001b[1;33m=\u001b[0m \u001b[0mstr\u001b[0m\u001b[1;33m(\u001b[0m\u001b[0mtext\u001b[0m\u001b[1;33m.\u001b[0m\u001b[0mencode\u001b[0m\u001b[1;33m(\u001b[0m\u001b[1;34m'utf-8'\u001b[0m\u001b[1;33m)\u001b[0m\u001b[1;33m)\u001b[0m\u001b[1;33m\u001b[0m\u001b[0m\n\u001b[0;32m    151\u001b[0m         \u001b[0mself\u001b[0m\u001b[1;33m.\u001b[0m\u001b[0mtext\u001b[0m \u001b[1;33m=\u001b[0m \u001b[0mtext\u001b[0m\u001b[1;33m\u001b[0m\u001b[0m\n\u001b[1;32m--> 152\u001b[1;33m         \u001b[0mself\u001b[0m\u001b[1;33m.\u001b[0m\u001b[0mwords_and_emoticons\u001b[0m \u001b[1;33m=\u001b[0m \u001b[0mself\u001b[0m\u001b[1;33m.\u001b[0m\u001b[0m_words_and_emoticons\u001b[0m\u001b[1;33m(\u001b[0m\u001b[1;33m)\u001b[0m\u001b[1;33m\u001b[0m\u001b[0m\n\u001b[0m\u001b[0;32m    153\u001b[0m         \u001b[1;31m# doesn't separate words from\\\u001b[0m\u001b[1;33m\u001b[0m\u001b[1;33m\u001b[0m\u001b[0m\n\u001b[0;32m    154\u001b[0m         \u001b[1;31m# adjacent punctuation (keeps emoticons & contractions)\u001b[0m\u001b[1;33m\u001b[0m\u001b[1;33m\u001b[0m\u001b[0m\n",
      "\u001b[1;32m~\\Desktop\\PythonCode\\python-challenge\\corporate_failure_bounce\\vaderSentiment_master\\vaderSentiment\\vaderSentiment.py\u001b[0m in \u001b[0;36m_words_and_emoticons\u001b[1;34m(self)\u001b[0m\n\u001b[0;32m    182\u001b[0m         \"\"\"\n\u001b[0;32m    183\u001b[0m         \u001b[0mwes\u001b[0m \u001b[1;33m=\u001b[0m \u001b[0mself\u001b[0m\u001b[1;33m.\u001b[0m\u001b[0mtext\u001b[0m\u001b[1;33m.\u001b[0m\u001b[0msplit\u001b[0m\u001b[1;33m(\u001b[0m\u001b[1;33m)\u001b[0m\u001b[1;33m\u001b[0m\u001b[0m\n\u001b[1;32m--> 184\u001b[1;33m         \u001b[0mwords_punc_dict\u001b[0m \u001b[1;33m=\u001b[0m \u001b[0mself\u001b[0m\u001b[1;33m.\u001b[0m\u001b[0m_words_plus_punc\u001b[0m\u001b[1;33m(\u001b[0m\u001b[1;33m)\u001b[0m\u001b[1;33m\u001b[0m\u001b[0m\n\u001b[0m\u001b[0;32m    185\u001b[0m         \u001b[0mwes\u001b[0m \u001b[1;33m=\u001b[0m \u001b[1;33m[\u001b[0m\u001b[0mwe\u001b[0m \u001b[1;32mfor\u001b[0m \u001b[0mwe\u001b[0m \u001b[1;32min\u001b[0m \u001b[0mwes\u001b[0m \u001b[1;32mif\u001b[0m \u001b[0mlen\u001b[0m\u001b[1;33m(\u001b[0m\u001b[0mwe\u001b[0m\u001b[1;33m)\u001b[0m \u001b[1;33m>\u001b[0m \u001b[1;36m1\u001b[0m\u001b[1;33m]\u001b[0m\u001b[1;33m\u001b[0m\u001b[0m\n\u001b[0;32m    186\u001b[0m         \u001b[1;32mfor\u001b[0m \u001b[0mi\u001b[0m\u001b[1;33m,\u001b[0m \u001b[0mwe\u001b[0m \u001b[1;32min\u001b[0m \u001b[0menumerate\u001b[0m\u001b[1;33m(\u001b[0m\u001b[0mwes\u001b[0m\u001b[1;33m)\u001b[0m\u001b[1;33m:\u001b[0m\u001b[1;33m\u001b[0m\u001b[0m\n",
      "\u001b[1;32m~\\Desktop\\PythonCode\\python-challenge\\corporate_failure_bounce\\vaderSentiment_master\\vaderSentiment\\vaderSentiment.py\u001b[0m in \u001b[0;36m_words_plus_punc\u001b[1;34m(self)\u001b[0m\n\u001b[0;32m    170\u001b[0m         \u001b[1;31m# the product gives ('cat', ',') and (',', 'cat')\u001b[0m\u001b[1;33m\u001b[0m\u001b[1;33m\u001b[0m\u001b[0m\n\u001b[0;32m    171\u001b[0m         \u001b[0mpunc_before\u001b[0m \u001b[1;33m=\u001b[0m \u001b[1;33m{\u001b[0m\u001b[1;34m''\u001b[0m\u001b[1;33m.\u001b[0m\u001b[0mjoin\u001b[0m\u001b[1;33m(\u001b[0m\u001b[0mp\u001b[0m\u001b[1;33m)\u001b[0m\u001b[1;33m:\u001b[0m \u001b[0mp\u001b[0m\u001b[1;33m[\u001b[0m\u001b[1;36m1\u001b[0m\u001b[1;33m]\u001b[0m \u001b[1;32mfor\u001b[0m \u001b[0mp\u001b[0m \u001b[1;32min\u001b[0m \u001b[0mproduct\u001b[0m\u001b[1;33m(\u001b[0m\u001b[0mPUNC_LIST\u001b[0m\u001b[1;33m,\u001b[0m \u001b[0mwords_only\u001b[0m\u001b[1;33m)\u001b[0m\u001b[1;33m}\u001b[0m\u001b[1;33m\u001b[0m\u001b[0m\n\u001b[1;32m--> 172\u001b[1;33m         \u001b[0mpunc_after\u001b[0m \u001b[1;33m=\u001b[0m \u001b[1;33m{\u001b[0m\u001b[1;34m''\u001b[0m\u001b[1;33m.\u001b[0m\u001b[0mjoin\u001b[0m\u001b[1;33m(\u001b[0m\u001b[0mp\u001b[0m\u001b[1;33m)\u001b[0m\u001b[1;33m:\u001b[0m \u001b[0mp\u001b[0m\u001b[1;33m[\u001b[0m\u001b[1;36m0\u001b[0m\u001b[1;33m]\u001b[0m \u001b[1;32mfor\u001b[0m \u001b[0mp\u001b[0m \u001b[1;32min\u001b[0m \u001b[0mproduct\u001b[0m\u001b[1;33m(\u001b[0m\u001b[0mwords_only\u001b[0m\u001b[1;33m,\u001b[0m \u001b[0mPUNC_LIST\u001b[0m\u001b[1;33m)\u001b[0m\u001b[1;33m}\u001b[0m\u001b[1;33m\u001b[0m\u001b[0m\n\u001b[0m\u001b[0;32m    173\u001b[0m         \u001b[0mwords_punc_dict\u001b[0m \u001b[1;33m=\u001b[0m \u001b[0mpunc_before\u001b[0m\u001b[1;33m\u001b[0m\u001b[0m\n\u001b[0;32m    174\u001b[0m         \u001b[0mwords_punc_dict\u001b[0m\u001b[1;33m.\u001b[0m\u001b[0mupdate\u001b[0m\u001b[1;33m(\u001b[0m\u001b[0mpunc_after\u001b[0m\u001b[1;33m)\u001b[0m\u001b[1;33m\u001b[0m\u001b[0m\n",
      "\u001b[1;32m~\\Desktop\\PythonCode\\python-challenge\\corporate_failure_bounce\\vaderSentiment_master\\vaderSentiment\\vaderSentiment.py\u001b[0m in \u001b[0;36m<dictcomp>\u001b[1;34m(.0)\u001b[0m\n\u001b[0;32m    170\u001b[0m         \u001b[1;31m# the product gives ('cat', ',') and (',', 'cat')\u001b[0m\u001b[1;33m\u001b[0m\u001b[1;33m\u001b[0m\u001b[0m\n\u001b[0;32m    171\u001b[0m         \u001b[0mpunc_before\u001b[0m \u001b[1;33m=\u001b[0m \u001b[1;33m{\u001b[0m\u001b[1;34m''\u001b[0m\u001b[1;33m.\u001b[0m\u001b[0mjoin\u001b[0m\u001b[1;33m(\u001b[0m\u001b[0mp\u001b[0m\u001b[1;33m)\u001b[0m\u001b[1;33m:\u001b[0m \u001b[0mp\u001b[0m\u001b[1;33m[\u001b[0m\u001b[1;36m1\u001b[0m\u001b[1;33m]\u001b[0m \u001b[1;32mfor\u001b[0m \u001b[0mp\u001b[0m \u001b[1;32min\u001b[0m \u001b[0mproduct\u001b[0m\u001b[1;33m(\u001b[0m\u001b[0mPUNC_LIST\u001b[0m\u001b[1;33m,\u001b[0m \u001b[0mwords_only\u001b[0m\u001b[1;33m)\u001b[0m\u001b[1;33m}\u001b[0m\u001b[1;33m\u001b[0m\u001b[0m\n\u001b[1;32m--> 172\u001b[1;33m         \u001b[0mpunc_after\u001b[0m \u001b[1;33m=\u001b[0m \u001b[1;33m{\u001b[0m\u001b[1;34m''\u001b[0m\u001b[1;33m.\u001b[0m\u001b[0mjoin\u001b[0m\u001b[1;33m(\u001b[0m\u001b[0mp\u001b[0m\u001b[1;33m)\u001b[0m\u001b[1;33m:\u001b[0m \u001b[0mp\u001b[0m\u001b[1;33m[\u001b[0m\u001b[1;36m0\u001b[0m\u001b[1;33m]\u001b[0m \u001b[1;32mfor\u001b[0m \u001b[0mp\u001b[0m \u001b[1;32min\u001b[0m \u001b[0mproduct\u001b[0m\u001b[1;33m(\u001b[0m\u001b[0mwords_only\u001b[0m\u001b[1;33m,\u001b[0m \u001b[0mPUNC_LIST\u001b[0m\u001b[1;33m)\u001b[0m\u001b[1;33m}\u001b[0m\u001b[1;33m\u001b[0m\u001b[0m\n\u001b[0m\u001b[0;32m    173\u001b[0m         \u001b[0mwords_punc_dict\u001b[0m \u001b[1;33m=\u001b[0m \u001b[0mpunc_before\u001b[0m\u001b[1;33m\u001b[0m\u001b[0m\n\u001b[0;32m    174\u001b[0m         \u001b[0mwords_punc_dict\u001b[0m\u001b[1;33m.\u001b[0m\u001b[0mupdate\u001b[0m\u001b[1;33m(\u001b[0m\u001b[0mpunc_after\u001b[0m\u001b[1;33m)\u001b[0m\u001b[1;33m\u001b[0m\u001b[0m\n",
      "\u001b[1;31mKeyboardInterrupt\u001b[0m: "
     ]
    }
   ],
   "source": [
    "# Loop through tickers and articles\n",
    "\n",
    "# Counter\n",
    "row_count = 0\n",
    "\n",
    "#Test variables\n",
    "base_url = \"http://content.guardianapis.com/search?q=\"\n",
    "sort = \"&order-by=oldest&show-fields=all&page-size=50&\"\n",
    "api_key = \"api-key=8a2fcf01-9a95-4f45-a42f-f467c8bdab27\"\n",
    "\n",
    "query_url = base_url + query_term + sort + from_date + to_date + api_key\n",
    "\n",
    "response = req.get(query_url)\n",
    "\n",
    "data = response.json()\n",
    "print(query_url)\n",
    "\n",
    "\n",
    "for index, row in stock_price_pd.iterrows():\n",
    "    query_term = stock_price_pd[\"Name\"]\n",
    "    Open_Date = stock_price_pd[\"Week 0\"]\n",
    "    Close_Date = stock_price_pd[\"Week 1\"]\n",
    "    from_date = \"from-date=\"+str(Open_Date)+\"&\"\n",
    "    to_date = \"to-date=\"+str(Close_Date)+\"&\"\n",
    "\n",
    "    \n",
    "    query_url = base_url + query_term + sort + from_date + to_date + api_key\n",
    "    print(query)\n",
    "\n",
    "    #Get article data\n",
    "    data = response.json()\n",
    "    article = data['response']['results'] \n",
    "    article_count = len(article)\n",
    "    \n",
    "    # Store the article count into the Data Frame\n",
    "    stock_price_pd.set_value(index, \"Article_Count\", article_count)\n",
    "                                             \n",
    "    # TEST article count\n",
    "\n",
    "\n",
    "\n",
    "    # Run Vader Analysis with While loop\n",
    "    Sentiment_Summation = 0 \n",
    "    for x in range(0,article_count):\n",
    "        Article_Sentiment = (article[x]['fields']['body'])\n",
    "        compound = analyzer.polarity_scores(Article_Sentiment)[\"compound\"]\n",
    "        pos = analyzer.polarity_scores(Article_Sentiment)[\"pos\"]\n",
    "        neu = analyzer.polarity_scores(Article_Sentiment)[\"neu\"]\n",
    "        neg = analyzer.polarity_scores(Article_Sentiment)[\"neg\"]\n",
    "\n",
    "        Sentiment_Summation += compound \n",
    "    \n",
    "    try: \n",
    "        stock_price_pd.set_value(index, \"Sentiment_Summation\", Sentiment_Summation)\n",
    "      \n",
    "    \n",
    "    except:\n",
    "        #print(\"Error with data. Skipping\")\n",
    "        continue\n",
    "\n",
    "    # Reset row count\n",
    "    row_count = 0"
   ]
  },
  {
   "cell_type": "code",
   "execution_count": null,
   "metadata": {
    "collapsed": true
   },
   "outputs": [],
   "source": []
  }
 ],
 "metadata": {
  "kernelspec": {
   "display_name": "Python 3",
   "language": "python",
   "name": "python3"
  },
  "language_info": {
   "codemirror_mode": {
    "name": "ipython",
    "version": 3
   },
   "file_extension": ".py",
   "mimetype": "text/x-python",
   "name": "python",
   "nbconvert_exporter": "python",
   "pygments_lexer": "ipython3",
   "version": "3.6.3"
  }
 },
 "nbformat": 4,
 "nbformat_minor": 2
}
