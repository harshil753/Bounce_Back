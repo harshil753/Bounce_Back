{
 "cells": [
  {
   "cell_type": "code",
   "execution_count": 1,
   "metadata": {
    "collapsed": true
   },
   "outputs": [],
   "source": [
    "# Dependencies\n",
    "import requests as req\n",
    "import numpy as np\n",
    "import pandas as pd\n",
    "import json\n",
    "import time\n",
    "import nltk.data"
   ]
  },
  {
   "cell_type": "markdown",
   "metadata": {},
   "source": [
    "# TEST"
   ]
  },
  {
   "cell_type": "code",
   "execution_count": 23,
   "metadata": {},
   "outputs": [
    {
     "name": "stdout",
     "output_type": "stream",
     "text": [
      "https://newsapi.org/v2/everything?q=AMZN&from=2018-01-19&sortBy=popularity&apiKey=c441f397416a4dcbafbc10855d15fc73\n"
     ]
    }
   ],
   "source": [
    "#TEST url\n",
    "#All news\n",
    "url = ('https://newsapi.org/v2/everything?'\n",
    "       'q=AMZN&'\n",
    "       'from=2018-01-19&'\n",
    "       'sortBy=popularity&'\n",
    "       'apiKey=c441f397416a4dcbafbc10855d15fc73')\n",
    "response = req.get(url)\n",
    "query = url\n",
    "print(query)"
   ]
  },
  {
   "cell_type": "code",
   "execution_count": 24,
   "metadata": {
    "collapsed": true
   },
   "outputs": [],
   "source": [
    "# News API URL\n",
    "url = \"https://newsapi.org/v2/everything?\"\n",
    "apikey = \"c441f397416a4dcbafbc10855d15fc73\""
   ]
  },
  {
   "cell_type": "code",
   "execution_count": 25,
   "metadata": {
    "collapsed": true
   },
   "outputs": [],
   "source": [
    "# TEST search with one ticker\n",
    "q = \"AMZN\""
   ]
  },
  {
   "cell_type": "code",
   "execution_count": 26,
   "metadata": {
    "collapsed": true
   },
   "outputs": [],
   "source": [
    "# TEST dates with fixed dates\n",
    "Open_Date = \"2018-01-01\"\n",
    "Close_Date = \"2018-01-19\""
   ]
  },
  {
   "cell_type": "code",
   "execution_count": 27,
   "metadata": {},
   "outputs": [
    {
     "name": "stdout",
     "output_type": "stream",
     "text": [
      "https://newsapi.org/v2/everything?q=AMZN&from=2018-01-01&to=2018-01-19&apikey=c441f397416a4dcbafbc10855d15fc73\n"
     ]
    }
   ],
   "source": [
    "# TEST query URL \n",
    "query = url + \"q=\" + q + \"&from=\" + Open_Date + \"&to=\" + Close_Date + \"&apikey=\" + apikey\n",
    "print(query)"
   ]
  },
  {
   "cell_type": "code",
   "execution_count": 28,
   "metadata": {
    "scrolled": true
   },
   "outputs": [
    {
     "name": "stdout",
     "output_type": "stream",
     "text": [
      "https://newsapi.org/v2/everything?q=AMZN&from=2018-01-01&to=2018-01-19&apikey=c441f397416a4dcbafbc10855d15fc73\n",
      "[{'source': {'id': 'business-insider', 'name': 'Business Insider'}, 'author': 'Graham Rapier', 'title': 'BERNSTEIN: Amazon could disappoint in 2018 (AMZN)', 'description': 'Amazon could underperform its retail peers, Bernstein said in a note listing possible 2018 surprises. It’s a heavily owned stock, with an expensive valuation, which could impact its ability to outperform. Amazon had a stellar 2017. The stock rose 55% during t…', 'url': 'http://www.businessinsider.com/amazon-stock-price-could-have-an-underwhelming-2018-bernstein-2018-1', 'urlToImage': 'http://static3.businessinsider.com/image/5a4d4b3f396e37a10e8b497f-1190-625/bernstein-amazon-could-disappoint-in-2018.jpg', 'publishedAt': '2018-01-04T13:00:00Z'}, {'source': {'id': None, 'name': 'Jornaldenegocios.pt'}, 'author': 'KRYPTO-1970', 'title': 'Forum Geral • Re: Amazon - AMZN NASDAQ', 'description': '', 'url': 'http://caldeiraodebolsa.jornaldenegocios.pt/viewtopic.php?t=62571&p=1359691#p1359691', 'urlToImage': None, 'publishedAt': '2018-01-01T10:13:34Z'}, {'source': {'id': 'business-insider', 'name': 'Business Insider'}, 'author': 'Graham Rapier', 'title': 'BERNSTEIN: Amazon could disappoint in 2018 (AMZN)', 'description': 'Amazon could underperform its retail peers, Bernstein said in a note listing possible 2018 surprises. It’s a heavily owned stock, with an expensive valuation, which could impact its ability to outperform. Amazon had a stellar 2017. The stock rose 55% during t…', 'url': 'http://markets.businessinsider.com/news/stocks/amazon-stock-price-could-have-an-underwhelming-2018-bernstein-2018-1-1012472097', 'urlToImage': 'http://static3.businessinsider.com/image/5a4d4b9ccf698a34008b4b4a-2400/450831338.jpg', 'publishedAt': '2018-01-04T13:00:00Z'}, {'source': {'id': None, 'name': 'Investopedia.com'}, 'author': 'Investopedia', 'title': \"Who are Amazon's (AMZN) main competitors?\", 'description': 'Learn about companies such as Google, Alibaba Group, Walmart and Target that Amazon competes with in each of its different revenue segments.', 'url': 'https://www.investopedia.com/ask/answers/120314/who-are-amazons-amzn-main-competitors.asp', 'urlToImage': 'https://i.investopedia.com/image/jpeg/1515446729435/amazon.jpg', 'publishedAt': '2018-01-08T21:33:00Z'}, {'source': {'id': 'business-insider', 'name': 'Business Insider'}, 'author': 'Joe Ciolli', 'title': 'JPMORGAN: Amazon could be worth $1 trillion some day (AMZN)', 'description': 'JPMorgan says that Amazon\\'s market value could eventually grow to more than $1 trillion. The firm says that Amazon is \"investing in more major growth opportunities than any other company.\" The stock would have to surge 66% from current levels to achieve a 13-…', 'url': 'http://www.businessinsider.com/amazon-stock-price-market-cap-value-could-be-worth-1-trillion-says-jpmorgan-2018-1', 'urlToImage': 'http://static3.businessinsider.com/image/5a563b1525954c6a008b496d-1190-625/jpmorgan-amazon-could-be-worth-1-trillion-some-day.jpg', 'publishedAt': '2018-01-10T16:46:00Z'}, {'source': {'id': 'business-insider', 'name': 'Business Insider'}, 'author': 'ktran@businessinsider.com (Kevin Tran), Kevin Tran', 'title': \"Amazon's ad revenue is set to surge in 2018 (AMZN)\", 'description': 'BI Intelligence This story was delivered to BI Intelligence \" Digital Media Briefing \" subscribers hours before appearing on Business Insider. To be the first to know, please click here. Amazon’s ad revenue could reach $4.5 billion in 2018, a 61% increase fro…', 'url': 'http://www.businessinsider.com/amazons-ad-revenue-is-set-to-surge-in-2018-2018-1', 'urlToImage': 'http://static4.businessinsider.com/image/5a58d3ba28eecc01028b491b-1190-625/amazons-ad-revenue-is-set-to-surge-in-2018.jpg', 'publishedAt': '2018-01-12T15:31:03Z'}, {'source': {'id': 'business-insider', 'name': 'Business Insider'}, 'author': 'Peter Newman', 'title': 'Amazon is exploring ad options for Echo and Alexa (AMZN)', 'description': 'This story was delivered to BI Intelligence IoT Briefing subscribers hours before it appeared on Business Insider. To be the first to know, please click here. Amazon is looking to transform the Echo smart speaker and its Alexa voice assistant into an advertis…', 'url': 'http://www.businessinsider.com/amazon-exploring-ad-options-echo-alexa-2018-1', 'urlToImage': 'http://static6.businessinsider.com/image/5a4e326f396e3727008b4c40-1190-625/amazon-is-exploring-ad-options-for-echo-and-alexa.jpg', 'publishedAt': '2018-01-04T15:53:54Z'}, {'source': {'id': None, 'name': 'Rlsbb.ru'}, 'author': 'ABC', 'title': 'Lycan 2017 1080p AMZN WEB-DL DD2.0 H264-QOQ', 'description': 'Plot: When six college kids in a sleepy Southern town are assigned a group project to rediscover a moment in history, one of them sets in motion a horrific fate when he proposes they head into the Georgia backwoods to tackle the legend of Emily Burt, the Talb…', 'url': 'http://rlsbb.ru/lycan-2017-1080p-amzn-web-dl-dd2-0-h264-qoq/', 'urlToImage': None, 'publishedAt': '2018-01-03T17:22:34Z'}, {'source': {'id': None, 'name': 'Rlsbb.ru'}, 'author': 'saamaan1@yahoo.com (Master), Master', 'title': 'Returning Citizens 2017 1080p AMZN WEB-DL H264-QOQ', 'description': 'Plot: “Returning Citizens” focuses on a passionate group of individuals who are looking for a second chance – or perhaps a chance they never had to begin with. Taking place in Southeast Washington, DC, the film offers a humanizing perspective on a community t…', 'url': 'http://rlsbb.ru/returning-citizens-2017-1080p-amzn-web-dl-h264-qoq/', 'urlToImage': None, 'publishedAt': '2018-01-18T21:32:14Z'}, {'source': {'id': 'business-insider', 'name': 'Business Insider'}, 'author': None, 'title': 'Spotify said it now has 70 million subscribers (AAPL, AMZN)', 'description': 'Andrew Burton/Getty Images Music streaming service Spotify, which filed confidentially with U.S. regulators for an initial public offering on Wednesday, has 70 million subscribers, it said in a tweet on Thursday. Spotify, valued at as much as $19 billion last…', 'url': 'http://www.businessinsider.com/r-spotify-reaches-70-million-subscribers-2018-1', 'urlToImage': 'http://static2.businessinsider.com/image/5a4ec3503225deb2008b496b-1190-625/spotify-said-it-now-has-70-million-subscribers.jpg', 'publishedAt': '2018-01-05T00:16:00Z'}, {'source': {'id': 'business-insider', 'name': 'Business Insider'}, 'author': 'Maria Terekhova', 'title': 'Amazon pushes further into insurance with its latest investment (AMZN)', 'description': 'This story was delivered to BI Intelligence \" Fintech Briefing \" subscribers. To learn more and subscribe, please click here. US-based retail giant Amazon is said to be investing circa $15.7 million in Indian insurtech Acko, which provides online-only insuran…', 'url': 'http://www.businessinsider.com/amazon-pushes-further-into-insurance-with-its-latest-investment-2018-1', 'urlToImage': 'http://static3.businessinsider.com/image/5a4f81063225de261a8b478b-1190-625/amazon-pushes-further-into-insurance-with-its-latest-investment.jpg', 'publishedAt': '2018-01-05T14:20:21Z'}, {'source': {'id': None, 'name': 'Rlsbb.ru'}, 'author': 'Lisa', 'title': 'VICE News Tonight S02E57 720p AMZN WEB-DL H264-monkee', 'description': 'For decades, newscasts — at both the local and national level — have had an anchor or anchors sitting behind a desk and reading news stories.The half-hour “VICE News Tonight” does away with that tried-and-true formula in an attempt to create what it calls “th…', 'url': 'http://rlsbb.ru/vice-news-tonight-s02e57-720p-amzn-web-dl-h264-monkee/', 'urlToImage': None, 'publishedAt': '2018-01-10T16:52:35Z'}, {'source': {'id': None, 'name': 'Rlsbb.ru'}, 'author': 'saamaan1@yahoo.com (Master), Master', 'title': 'November 10th 2015 1080p AMZN WEB-DL DDP5.1 H264-SiGMA', 'description': 'Battle of Surabaya (Original Title) 3 wins & 1 nomination. See more awards » Plot: BATTLE OF SURABAYA recounts to you the adventure of Musa, a spontaneous, brave, thirteen-year-old shoe shiner, who makes a living under the pressure of necessity or poverty in …', 'url': 'http://rlsbb.ru/november-10th-2015-1080p-amzn-web-dl-ddp5-1-h264-sigma/', 'urlToImage': None, 'publishedAt': '2018-01-03T18:55:22Z'}, {'source': {'id': 'business-insider', 'name': 'Business Insider'}, 'author': 'Dave Smith', 'title': 'Amazon is making a major play for Windows PCs (AMZN)', 'description': \"Several PC manufacturers have announced new computers coming in 2018 that will support Amazon's popular voice assistant, Alexa, hands-free. Some of these new PCs will come with special hardware that will make Alexa respond to commands more quickly and hear yo…\", 'url': 'http://www.businessinsider.com/amazon-alexa-microsoft-windows-10-pc-2018-1', 'urlToImage': 'http://static4.businessinsider.com/image/5a539d163225de92198b4d10-1190-625/amazon-is-making-a-major-play-for-windows-pcs.jpg', 'publishedAt': '2018-01-08T16:33:00Z'}, {'source': {'id': 'business-insider', 'name': 'Business Insider'}, 'author': 'Daniel Keyes', 'title': 'Amazon led the US in online grocery in 2017 (AMZN)', 'description': 'This story was delivered to BI Intelligence \" E-Commerce Briefing \" subscribers hours before appearing on Business Insider. To be the first to know, please click here. In 2017, Amazon sold $2 billion in grocery products online in the US, up 59% year-over-year…', 'url': 'http://www.businessinsider.com/amazon-led-us-online-grocery-2017-2018-1', 'urlToImage': 'http://static5.businessinsider.com/image/5a5f5dba28eecc1d008b540e-1190-625/amazon-led-the-us-in-online-grocery-in-2017.jpg', 'publishedAt': '2018-01-17T14:33:00Z'}, {'source': {'id': None, 'name': 'Rlsbb.ru'}, 'author': 'Robotnico', 'title': 'The Canadians S01 720p AMZN WEB-DL DD2.0 H264-NTb', 'description': 'Track and react with millions of The Canadians fans just like you on TV Time. Links: HOMEPAGE – TVDB The.Canadians.S01.WEB.x264-RBB MP4 | AAC VBR | 10EP [3.86GB] NFO – Torrent Search – UPLOADGiG – NiTROFLARE – RAPiDGATOR The.Canadians.S01.720p.AMZN.WEB-DL.DD2…', 'url': 'http://rlsbb.ru/the-canadians-s01-720p-amzn-web-dl-dd2-0-h264-ntb/', 'urlToImage': None, 'publishedAt': '2018-01-16T15:20:16Z'}, {'source': {'id': 'business-insider', 'name': 'Business Insider'}, 'author': 'Dennis Green', 'title': \"Here's the biggest surprise from Amazon's HQ2 shortlist (AMZN)\", 'description': \"Los Angeles was included on the shortlist for Amazon's new headquarters contest. This comes as something of a surprise, as Los Angeles was not considered a top location by most experts. Experts are split on what this could mean for the eventual HQ2 winner. Lo…\", 'url': 'http://www.businessinsider.com/la-biggest-surprise-from-amazons-hq2-shortlist-2018-1', 'urlToImage': 'http://static6.businessinsider.com/image/5a60ebb8f421493e028b5a61-1190-625/heres-the-biggest-surprise-from-amazons-hq2-shortlist.jpg', 'publishedAt': '2018-01-18T21:49:55Z'}, {'source': {'id': None, 'name': 'Rlsbb.ru'}, 'author': 'saamaan1@yahoo.com (Master)', 'title': 'Striking Out S01 720p AMZN WEB-DL H264-NTb', 'description': 'Striking Out is a four-part, character driven returnable drama series centers on the tumultuous professional and personal life of Dublin-based solicitor Tara, and her fledgling law firm. Filled with charm, humor, humanity and emotional complexity, Striking Ou…', 'url': 'http://rlsbb.ru/striking-out-s01-720p-amzn-web-dl-dd2-0-h264-ntb/', 'urlToImage': None, 'publishedAt': '2018-01-08T21:26:03Z'}, {'source': {'id': 'business-insider', 'name': 'Business Insider'}, 'author': 'Daniel Keyes', 'title': 'Whole Foods may be alienating local suppliers (AMZN)', 'description': 'This story was delivered to BI Intelligence \" E-Commerce Briefing \" subscribers hours before appearing on Business Insider. To be the first to know, please click here. Whole Foods is introducing new rules for its suppliers to try to lower costs and centralize…', 'url': 'http://www.businessinsider.com/whole-foods-may-be-alienating-local-suppliers-2018-1', 'urlToImage': 'http://static3.businessinsider.com/image/5a563513a75e2066138b47e3-1190-625/whole-foods-may-be-alienating-local-suppliers.jpg', 'publishedAt': '2018-01-10T15:46:08Z'}, {'source': {'id': None, 'name': 'Valuewalk.com'}, 'author': 'The Foundation for Economic Education', 'title': 'The Postal Service Is The Problem, Not Amazon.com, Inc. (AMZN)', 'description': 'President Donald Trump really hates the Post Office, it appears. The long lines, the snooty clerks, and the awful smelling buildings. All I can think is “yuck.” However, he seems to hate Amazon more for using the only postal delivery […] The post The Postal S…', 'url': 'http://www.valuewalk.com/2018/01/postal-service-amazon-com-inc-amzn/', 'urlToImage': 'http://www.valuewalk.com/wp-content/uploads/2017/11/Amazon-Black-Friday-in-2017.jpg', 'publishedAt': '2018-01-03T16:11:41Z'}]\n"
     ]
    }
   ],
   "source": [
    "# TEST Query json\n",
    "query = url + \"q=\" + q + \"&from=\" + Open_Date + \"&to=\" + Close_Date + \"&apikey=\" + apikey\n",
    "\n",
    "print(query)\n",
    "# Retrieve articles\n",
    "articles = req.get(query).json()['articles']\n",
    "print(articles)\n",
    "\n",
    "# for article in articles:\n",
    "#     print(\"A snippet from the article: '\" + article[\"description\"] + \"'.\\n\")"
   ]
  },
  {
   "cell_type": "code",
   "execution_count": 29,
   "metadata": {},
   "outputs": [
    {
     "name": "stdout",
     "output_type": "stream",
     "text": [
      "Amazon could underperform its retail peers, Bernstein said in a note listing possible 2018 surprises. It’s a heavily owned stock, with an expensive valuation, which could impact its ability to outperform. Amazon had a stellar 2017. The stock rose 55% during t…\n",
      "======================\n",
      "\n",
      "======================\n",
      "Amazon could underperform its retail peers, Bernstein said in a note listing possible 2018 surprises. It’s a heavily owned stock, with an expensive valuation, which could impact its ability to outperform. Amazon had a stellar 2017. The stock rose 55% during t…\n",
      "======================\n",
      "Learn about companies such as Google, Alibaba Group, Walmart and Target that Amazon competes with in each of its different revenue segments.\n",
      "======================\n",
      "JPMorgan says that Amazon's market value could eventually grow to more than $1 trillion. The firm says that Amazon is \"investing in more major growth opportunities than any other company.\" The stock would have to surge 66% from current levels to achieve a 13-…\n",
      "======================\n",
      "BI Intelligence This story was delivered to BI Intelligence \" Digital Media Briefing \" subscribers hours before appearing on Business Insider. To be the first to know, please click here. Amazon’s ad revenue could reach $4.5 billion in 2018, a 61% increase fro…\n",
      "======================\n",
      "This story was delivered to BI Intelligence IoT Briefing subscribers hours before it appeared on Business Insider. To be the first to know, please click here. Amazon is looking to transform the Echo smart speaker and its Alexa voice assistant into an advertis…\n",
      "======================\n",
      "Plot: When six college kids in a sleepy Southern town are assigned a group project to rediscover a moment in history, one of them sets in motion a horrific fate when he proposes they head into the Georgia backwoods to tackle the legend of Emily Burt, the Talb…\n",
      "======================\n",
      "Plot: “Returning Citizens” focuses on a passionate group of individuals who are looking for a second chance – or perhaps a chance they never had to begin with. Taking place in Southeast Washington, DC, the film offers a humanizing perspective on a community t…\n",
      "======================\n",
      "Andrew Burton/Getty Images Music streaming service Spotify, which filed confidentially with U.S. regulators for an initial public offering on Wednesday, has 70 million subscribers, it said in a tweet on Thursday. Spotify, valued at as much as $19 billion last…\n",
      "======================\n",
      "This story was delivered to BI Intelligence \" Fintech Briefing \" subscribers. To learn more and subscribe, please click here. US-based retail giant Amazon is said to be investing circa $15.7 million in Indian insurtech Acko, which provides online-only insuran…\n",
      "======================\n",
      "For decades, newscasts — at both the local and national level — have had an anchor or anchors sitting behind a desk and reading news stories.The half-hour “VICE News Tonight” does away with that tried-and-true formula in an attempt to create what it calls “th…\n",
      "======================\n",
      "Battle of Surabaya (Original Title) 3 wins & 1 nomination. See more awards » Plot: BATTLE OF SURABAYA recounts to you the adventure of Musa, a spontaneous, brave, thirteen-year-old shoe shiner, who makes a living under the pressure of necessity or poverty in …\n",
      "======================\n",
      "Several PC manufacturers have announced new computers coming in 2018 that will support Amazon's popular voice assistant, Alexa, hands-free. Some of these new PCs will come with special hardware that will make Alexa respond to commands more quickly and hear yo…\n",
      "======================\n",
      "This story was delivered to BI Intelligence \" E-Commerce Briefing \" subscribers hours before appearing on Business Insider. To be the first to know, please click here. In 2017, Amazon sold $2 billion in grocery products online in the US, up 59% year-over-year…\n",
      "======================\n",
      "Track and react with millions of The Canadians fans just like you on TV Time. Links: HOMEPAGE – TVDB The.Canadians.S01.WEB.x264-RBB MP4 | AAC VBR | 10EP [3.86GB] NFO – Torrent Search – UPLOADGiG – NiTROFLARE – RAPiDGATOR The.Canadians.S01.720p.AMZN.WEB-DL.DD2…\n",
      "======================\n",
      "Los Angeles was included on the shortlist for Amazon's new headquarters contest. This comes as something of a surprise, as Los Angeles was not considered a top location by most experts. Experts are split on what this could mean for the eventual HQ2 winner. Lo…\n",
      "======================\n",
      "Striking Out is a four-part, character driven returnable drama series centers on the tumultuous professional and personal life of Dublin-based solicitor Tara, and her fledgling law firm. Filled with charm, humor, humanity and emotional complexity, Striking Ou…\n",
      "======================\n",
      "This story was delivered to BI Intelligence \" E-Commerce Briefing \" subscribers hours before appearing on Business Insider. To be the first to know, please click here. Whole Foods is introducing new rules for its suppliers to try to lower costs and centralize…\n",
      "======================\n",
      "President Donald Trump really hates the Post Office, it appears. The long lines, the snooty clerks, and the awful smelling buildings. All I can think is “yuck.” However, he seems to hate Amazon more for using the only postal delivery […] The post The Postal S…\n",
      "======================\n"
     ]
    }
   ],
   "source": [
    "queries_returned = len(articles)\n",
    "for x in range(queries_returned):\n",
    "    print(articles[x]['description'])\n",
    "    print(\"======================\")"
   ]
  },
  {
   "cell_type": "code",
   "execution_count": 30,
   "metadata": {},
   "outputs": [
    {
     "name": "stdout",
     "output_type": "stream",
     "text": [
      "11\n"
     ]
    }
   ],
   "source": [
    "# TEST article count\n",
    "article_count = len(\"description\")\n",
    "print(article_count)"
   ]
  },
  {
   "cell_type": "code",
   "execution_count": 31,
   "metadata": {},
   "outputs": [
    {
     "name": "stdout",
     "output_type": "stream",
     "text": [
      "C:\\Users\\craig\\Desktop\\Bounce_Back\\Bounce_Back\\vaderSentiment_master\n"
     ]
    }
   ],
   "source": [
    "cd vaderSentiment_master"
   ]
  },
  {
   "cell_type": "code",
   "execution_count": 32,
   "metadata": {},
   "outputs": [
    {
     "name": "stdout",
     "output_type": "stream",
     "text": [
      "C:\\Users\\craig\\Desktop\\Bounce_Back\\Bounce_Back\\vaderSentiment_master\\vaderSentiment\n"
     ]
    }
   ],
   "source": [
    "cd vaderSentiment"
   ]
  },
  {
   "cell_type": "code",
   "execution_count": 33,
   "metadata": {
    "collapsed": true
   },
   "outputs": [],
   "source": [
    "import vaderSentiment"
   ]
  },
  {
   "cell_type": "code",
   "execution_count": 34,
   "metadata": {
    "collapsed": true
   },
   "outputs": [],
   "source": [
    "# Import and Initialize Sentiment Analyzer\n",
    "from vaderSentiment import SentimentIntensityAnalyzer\n",
    "analyzer = SentimentIntensityAnalyzer()"
   ]
  },
  {
   "cell_type": "code",
   "execution_count": 35,
   "metadata": {},
   "outputs": [
    {
     "name": "stdout",
     "output_type": "stream",
     "text": [
      "Compound Score: -0.8479\n",
      "Positive Score: 0.032\n",
      "Neutral Score: 0.78\n",
      "Negative Score: 0.188\n"
     ]
    }
   ],
   "source": [
    "# Test Vader Analysis without  loop\n",
    "\n",
    "Article_Sentiment = (articles[x]['description'])\n",
    "compound = analyzer.polarity_scores(Article_Sentiment)[\"compound\"]\n",
    "pos = analyzer.polarity_scores(Article_Sentiment)[\"pos\"]\n",
    "neu = analyzer.polarity_scores(Article_Sentiment)[\"neu\"]\n",
    "neg = analyzer.polarity_scores(Article_Sentiment)[\"neg\"]\n",
    "            \n",
    "            # Print Analysis\n",
    "print(\"Compound Score: %s\" % compound)\n",
    "print(\"Positive Score: %s\" % pos)\n",
    "print(\"Neutral Score: %s\" % neu)\n",
    "print(\"Negative Score: %s\" % neg)"
   ]
  },
  {
   "cell_type": "code",
   "execution_count": 36,
   "metadata": {},
   "outputs": [
    {
     "name": "stdout",
     "output_type": "stream",
     "text": [
      "-0.8479\n"
     ]
    }
   ],
   "source": [
    "Sentiment_Summation = compound \n",
    "print(Sentiment_Summation)"
   ]
  },
  {
   "cell_type": "markdown",
   "metadata": {},
   "source": [
    "# PRODUCTION"
   ]
  },
  {
   "cell_type": "code",
   "execution_count": 18,
   "metadata": {},
   "outputs": [
    {
     "name": "stdout",
     "output_type": "stream",
     "text": [
      "C:\\Users\\craig\\Desktop\\Bounce_Back\\Bounce_Back\n"
     ]
    }
   ],
   "source": [
    "cd .."
   ]
  },
  {
   "cell_type": "code",
   "execution_count": 19,
   "metadata": {},
   "outputs": [],
   "source": [
    "# Need to run for local install of Vader Module solution\n"
   ]
  },
  {
   "cell_type": "code",
   "execution_count": 20,
   "metadata": {},
   "outputs": [
    {
     "data": {
      "text/html": [
       "<div>\n",
       "<style>\n",
       "    .dataframe thead tr:only-child th {\n",
       "        text-align: right;\n",
       "    }\n",
       "\n",
       "    .dataframe thead th {\n",
       "        text-align: left;\n",
       "    }\n",
       "\n",
       "    .dataframe tbody tr th {\n",
       "        vertical-align: top;\n",
       "    }\n",
       "</style>\n",
       "<table border=\"1\" class=\"dataframe\">\n",
       "  <thead>\n",
       "    <tr style=\"text-align: right;\">\n",
       "      <th></th>\n",
       "      <th>Unnamed: 0</th>\n",
       "      <th>Ticker</th>\n",
       "      <th>Opening Price</th>\n",
       "      <th>Closing Price</th>\n",
       "      <th>Close_Date</th>\n",
       "      <th>Open_Date</th>\n",
       "    </tr>\n",
       "  </thead>\n",
       "  <tbody>\n",
       "    <tr>\n",
       "      <th>0</th>\n",
       "      <td>0</td>\n",
       "      <td>MRC</td>\n",
       "      <td>17.34</td>\n",
       "      <td>15.29</td>\n",
       "      <td>23-Jun-2017</td>\n",
       "      <td>16-Jun-2017</td>\n",
       "    </tr>\n",
       "    <tr>\n",
       "      <th>1</th>\n",
       "      <td>1</td>\n",
       "      <td>MRC</td>\n",
       "      <td>10.08</td>\n",
       "      <td>8.94</td>\n",
       "      <td>12-Feb-2016</td>\n",
       "      <td>5-Feb-2016</td>\n",
       "    </tr>\n",
       "    <tr>\n",
       "      <th>2</th>\n",
       "      <td>2</td>\n",
       "      <td>MRC</td>\n",
       "      <td>12.78</td>\n",
       "      <td>11.38</td>\n",
       "      <td>8-Jan-2016</td>\n",
       "      <td>1-Jan-2016</td>\n",
       "    </tr>\n",
       "    <tr>\n",
       "      <th>3</th>\n",
       "      <td>3</td>\n",
       "      <td>MRC</td>\n",
       "      <td>12.84</td>\n",
       "      <td>11.35</td>\n",
       "      <td>21-Aug-2015</td>\n",
       "      <td>14-Aug-2015</td>\n",
       "    </tr>\n",
       "    <tr>\n",
       "      <th>4</th>\n",
       "      <td>4</td>\n",
       "      <td>MRC</td>\n",
       "      <td>14.98</td>\n",
       "      <td>13.22</td>\n",
       "      <td>24-Jul-2015</td>\n",
       "      <td>17-Jul-2015</td>\n",
       "    </tr>\n",
       "  </tbody>\n",
       "</table>\n",
       "</div>"
      ],
      "text/plain": [
       "   Unnamed: 0 Ticker  Opening Price  Closing Price   Close_Date    Open_Date\n",
       "0           0    MRC          17.34          15.29  23-Jun-2017  16-Jun-2017\n",
       "1           1    MRC          10.08           8.94  12-Feb-2016   5-Feb-2016\n",
       "2           2    MRC          12.78          11.38   8-Jan-2016   1-Jan-2016\n",
       "3           3    MRC          12.84          11.35  21-Aug-2015  14-Aug-2015\n",
       "4           4    MRC          14.98          13.22  24-Jul-2015  17-Jul-2015"
      ]
     },
     "execution_count": 20,
     "metadata": {},
     "output_type": "execute_result"
    }
   ],
   "source": [
    "# Import csv to stock_price_pd\n",
    "stock_price_pd = pd.read_csv(\"price drops.csv\")\n",
    "stock_price_pd.head()"
   ]
  },
  {
   "cell_type": "code",
   "execution_count": 21,
   "metadata": {},
   "outputs": [
    {
     "data": {
      "text/html": [
       "<div>\n",
       "<style>\n",
       "    .dataframe thead tr:only-child th {\n",
       "        text-align: right;\n",
       "    }\n",
       "\n",
       "    .dataframe thead th {\n",
       "        text-align: left;\n",
       "    }\n",
       "\n",
       "    .dataframe tbody tr th {\n",
       "        vertical-align: top;\n",
       "    }\n",
       "</style>\n",
       "<table border=\"1\" class=\"dataframe\">\n",
       "  <thead>\n",
       "    <tr style=\"text-align: right;\">\n",
       "      <th></th>\n",
       "      <th>Unnamed: 0</th>\n",
       "      <th>Ticker</th>\n",
       "      <th>Opening Price</th>\n",
       "      <th>Closing Price</th>\n",
       "      <th>Close_Date</th>\n",
       "      <th>Open_Date</th>\n",
       "      <th>Article_Count</th>\n",
       "      <th>Article_Avg_Sentiment</th>\n",
       "      <th>Sentiment_Summation</th>\n",
       "    </tr>\n",
       "  </thead>\n",
       "  <tbody>\n",
       "    <tr>\n",
       "      <th>0</th>\n",
       "      <td>0</td>\n",
       "      <td>MRC</td>\n",
       "      <td>17.34</td>\n",
       "      <td>15.29</td>\n",
       "      <td>23-Jun-2017</td>\n",
       "      <td>16-Jun-2017</td>\n",
       "      <td></td>\n",
       "      <td></td>\n",
       "      <td></td>\n",
       "    </tr>\n",
       "    <tr>\n",
       "      <th>1</th>\n",
       "      <td>1</td>\n",
       "      <td>MRC</td>\n",
       "      <td>10.08</td>\n",
       "      <td>8.94</td>\n",
       "      <td>12-Feb-2016</td>\n",
       "      <td>5-Feb-2016</td>\n",
       "      <td></td>\n",
       "      <td></td>\n",
       "      <td></td>\n",
       "    </tr>\n",
       "    <tr>\n",
       "      <th>2</th>\n",
       "      <td>2</td>\n",
       "      <td>MRC</td>\n",
       "      <td>12.78</td>\n",
       "      <td>11.38</td>\n",
       "      <td>8-Jan-2016</td>\n",
       "      <td>1-Jan-2016</td>\n",
       "      <td></td>\n",
       "      <td></td>\n",
       "      <td></td>\n",
       "    </tr>\n",
       "    <tr>\n",
       "      <th>3</th>\n",
       "      <td>3</td>\n",
       "      <td>MRC</td>\n",
       "      <td>12.84</td>\n",
       "      <td>11.35</td>\n",
       "      <td>21-Aug-2015</td>\n",
       "      <td>14-Aug-2015</td>\n",
       "      <td></td>\n",
       "      <td></td>\n",
       "      <td></td>\n",
       "    </tr>\n",
       "    <tr>\n",
       "      <th>4</th>\n",
       "      <td>4</td>\n",
       "      <td>MRC</td>\n",
       "      <td>14.98</td>\n",
       "      <td>13.22</td>\n",
       "      <td>24-Jul-2015</td>\n",
       "      <td>17-Jul-2015</td>\n",
       "      <td></td>\n",
       "      <td></td>\n",
       "      <td></td>\n",
       "    </tr>\n",
       "  </tbody>\n",
       "</table>\n",
       "</div>"
      ],
      "text/plain": [
       "   Unnamed: 0 Ticker  Opening Price  Closing Price   Close_Date    Open_Date  \\\n",
       "0           0    MRC          17.34          15.29  23-Jun-2017  16-Jun-2017   \n",
       "1           1    MRC          10.08           8.94  12-Feb-2016   5-Feb-2016   \n",
       "2           2    MRC          12.78          11.38   8-Jan-2016   1-Jan-2016   \n",
       "3           3    MRC          12.84          11.35  21-Aug-2015  14-Aug-2015   \n",
       "4           4    MRC          14.98          13.22  24-Jul-2015  17-Jul-2015   \n",
       "\n",
       "  Article_Count Article_Avg_Sentiment Sentiment_Summation  \n",
       "0                                                          \n",
       "1                                                          \n",
       "2                                                          \n",
       "3                                                          \n",
       "4                                                          "
      ]
     },
     "execution_count": 21,
     "metadata": {},
     "output_type": "execute_result"
    }
   ],
   "source": [
    "#Add columns for Article Description\n",
    "stock_price_pd[\"Article_Count\"] = \"\"\n",
    "stock_price_pd[\"Article_Avg_Sentiment\"] = \"\"\n",
    "stock_price_pd[\"Sentiment_Summation\"] = \"\"\n",
    "stock_price_pd.head()"
   ]
  },
  {
   "cell_type": "code",
   "execution_count": 22,
   "metadata": {},
   "outputs": [
    {
     "name": "stdout",
     "output_type": "stream",
     "text": [
      "0       https://newsapi.org/v2/everything?&t=MRC&Open_...\n",
      "1       https://newsapi.org/v2/everything?&t=MRC&Open_...\n",
      "2       https://newsapi.org/v2/everything?&t=MRC&Open_...\n",
      "3       https://newsapi.org/v2/everything?&t=MRC&Open_...\n",
      "4       https://newsapi.org/v2/everything?&t=MRC&Open_...\n",
      "5       https://newsapi.org/v2/everything?&t=MRC&Open_...\n",
      "6       https://newsapi.org/v2/everything?&t=MRC&Open_...\n",
      "7       https://newsapi.org/v2/everything?&t=MRC&Open_...\n",
      "8       https://newsapi.org/v2/everything?&t=MRC&Open_...\n",
      "9       https://newsapi.org/v2/everything?&t=MRC&Open_...\n",
      "10      https://newsapi.org/v2/everything?&t=MRC&Open_...\n",
      "11      https://newsapi.org/v2/everything?&t=NVG&Open_...\n",
      "12      https://newsapi.org/v2/everything?&t=NVG&Open_...\n",
      "13      https://newsapi.org/v2/everything?&t=NVG&Open_...\n",
      "14      https://newsapi.org/v2/everything?&t=TDY&Open_...\n",
      "15      https://newsapi.org/v2/everything?&t=TDY&Open_...\n",
      "16      https://newsapi.org/v2/everything?&t=TDY&Open_...\n",
      "17      https://newsapi.org/v2/everything?&t=TDY&Open_...\n",
      "18      https://newsapi.org/v2/everything?&t=TDY&Open_...\n",
      "19      https://newsapi.org/v2/everything?&t=TDY&Open_...\n",
      "20      https://newsapi.org/v2/everything?&t=TDY&Open_...\n",
      "21      https://newsapi.org/v2/everything?&t=TDY&Open_...\n",
      "22      https://newsapi.org/v2/everything?&t=TDY&Open_...\n",
      "23      https://newsapi.org/v2/everything?&t=TDY&Open_...\n",
      "24      https://newsapi.org/v2/everything?&t=TDY&Open_...\n",
      "25      https://newsapi.org/v2/everything?&t=TDY&Open_...\n",
      "26      https://newsapi.org/v2/everything?&t=TDY&Open_...\n",
      "27      https://newsapi.org/v2/everything?&t=TDY&Open_...\n",
      "28      https://newsapi.org/v2/everything?&t=TDY&Open_...\n",
      "29      https://newsapi.org/v2/everything?&t=TDY&Open_...\n",
      "                              ...                        \n",
      "7177    https://newsapi.org/v2/everything?&t=PAR&Open_...\n",
      "7178    https://newsapi.org/v2/everything?&t=PAR&Open_...\n",
      "7179    https://newsapi.org/v2/everything?&t=PAR&Open_...\n",
      "7180    https://newsapi.org/v2/everything?&t=PAR&Open_...\n",
      "7181    https://newsapi.org/v2/everything?&t=PAR&Open_...\n",
      "7182    https://newsapi.org/v2/everything?&t=PAR&Open_...\n",
      "7183    https://newsapi.org/v2/everything?&t=PAR&Open_...\n",
      "7184    https://newsapi.org/v2/everything?&t=PAR&Open_...\n",
      "7185    https://newsapi.org/v2/everything?&t=PAR&Open_...\n",
      "7186    https://newsapi.org/v2/everything?&t=PAR&Open_...\n",
      "7187    https://newsapi.org/v2/everything?&t=PAR&Open_...\n",
      "7188    https://newsapi.org/v2/everything?&t=PAR&Open_...\n",
      "7189    https://newsapi.org/v2/everything?&t=PAR&Open_...\n",
      "7190    https://newsapi.org/v2/everything?&t=PAR&Open_...\n",
      "7191    https://newsapi.org/v2/everything?&t=PAR&Open_...\n",
      "7192    https://newsapi.org/v2/everything?&t=PAR&Open_...\n",
      "7193    https://newsapi.org/v2/everything?&t=PAR&Open_...\n",
      "7194    https://newsapi.org/v2/everything?&t=PAR&Open_...\n",
      "7195    https://newsapi.org/v2/everything?&t=PAR&Open_...\n",
      "7196    https://newsapi.org/v2/everything?&t=PAR&Open_...\n",
      "7197    https://newsapi.org/v2/everything?&t=PAR&Open_...\n",
      "7198    https://newsapi.org/v2/everything?&t=PAR&Open_...\n",
      "7199    https://newsapi.org/v2/everything?&t=PAR&Open_...\n",
      "7200    https://newsapi.org/v2/everything?&t=PAR&Open_...\n",
      "7201    https://newsapi.org/v2/everything?&t=PAR&Open_...\n",
      "7202    https://newsapi.org/v2/everything?&t=PAR&Open_...\n",
      "7203    https://newsapi.org/v2/everything?&t=WPC&Open_...\n",
      "7204    https://newsapi.org/v2/everything?&t=WPC&Open_...\n",
      "7205    https://newsapi.org/v2/everything?&t=WPC&Open_...\n",
      "7206    https://newsapi.org/v2/everything?&t=WPC&Open_...\n",
      "Length: 7207, dtype: object\n"
     ]
    },
    {
     "ename": "ValueError",
     "evalue": "The truth value of a Series is ambiguous. Use a.empty, a.bool(), a.item(), a.any() or a.all().",
     "output_type": "error",
     "traceback": [
      "\u001b[1;31m---------------------------------------------------------------------------\u001b[0m",
      "\u001b[1;31mValueError\u001b[0m                                Traceback (most recent call last)",
      "\u001b[1;32m<ipython-input-22-c1a7f1d0d9a1>\u001b[0m in \u001b[0;36m<module>\u001b[1;34m()\u001b[0m\n\u001b[0;32m     15\u001b[0m     \u001b[0marticle_response\u001b[0m \u001b[1;33m=\u001b[0m \u001b[0mreq\u001b[0m\u001b[1;33m.\u001b[0m\u001b[0mget\u001b[0m\u001b[1;33m(\u001b[0m\u001b[0murl\u001b[0m\u001b[1;33m)\u001b[0m\u001b[1;33m\u001b[0m\u001b[0m\n\u001b[0;32m     16\u001b[0m     \u001b[0marticle_json\u001b[0m \u001b[1;33m=\u001b[0m \u001b[0marticle_response\u001b[0m\u001b[1;33m.\u001b[0m\u001b[0mjson\u001b[0m\u001b[1;33m(\u001b[0m\u001b[1;33m)\u001b[0m\u001b[1;33m\u001b[0m\u001b[0m\n\u001b[1;32m---> 17\u001b[1;33m     \u001b[0marticles\u001b[0m \u001b[1;33m=\u001b[0m \u001b[0mreq\u001b[0m\u001b[1;33m.\u001b[0m\u001b[0mget\u001b[0m\u001b[1;33m(\u001b[0m\u001b[0mquery\u001b[0m\u001b[1;33m)\u001b[0m\u001b[1;33m.\u001b[0m\u001b[0mjson\u001b[0m\u001b[1;33m(\u001b[0m\u001b[1;33m)\u001b[0m\u001b[1;33m[\u001b[0m\u001b[1;34m\"articles\"\u001b[0m\u001b[1;33m]\u001b[0m\u001b[1;33m[\u001b[0m\u001b[1;36m0\u001b[0m\u001b[1;33m]\u001b[0m\u001b[1;33m[\u001b[0m\u001b[1;34m\"description\"\u001b[0m\u001b[1;33m]\u001b[0m\u001b[1;33m\u001b[0m\u001b[0m\n\u001b[0m\u001b[0;32m     18\u001b[0m \u001b[1;33m\u001b[0m\u001b[0m\n\u001b[0;32m     19\u001b[0m     \u001b[1;31m# Store the article count into the Data Frame\u001b[0m\u001b[1;33m\u001b[0m\u001b[1;33m\u001b[0m\u001b[0m\n",
      "\u001b[1;32m~\\Anaconda3\\envs\\pythondata\\lib\\site-packages\\requests\\api.py\u001b[0m in \u001b[0;36mget\u001b[1;34m(url, params, **kwargs)\u001b[0m\n\u001b[0;32m     70\u001b[0m \u001b[1;33m\u001b[0m\u001b[0m\n\u001b[0;32m     71\u001b[0m     \u001b[0mkwargs\u001b[0m\u001b[1;33m.\u001b[0m\u001b[0msetdefault\u001b[0m\u001b[1;33m(\u001b[0m\u001b[1;34m'allow_redirects'\u001b[0m\u001b[1;33m,\u001b[0m \u001b[1;32mTrue\u001b[0m\u001b[1;33m)\u001b[0m\u001b[1;33m\u001b[0m\u001b[0m\n\u001b[1;32m---> 72\u001b[1;33m     \u001b[1;32mreturn\u001b[0m \u001b[0mrequest\u001b[0m\u001b[1;33m(\u001b[0m\u001b[1;34m'get'\u001b[0m\u001b[1;33m,\u001b[0m \u001b[0murl\u001b[0m\u001b[1;33m,\u001b[0m \u001b[0mparams\u001b[0m\u001b[1;33m=\u001b[0m\u001b[0mparams\u001b[0m\u001b[1;33m,\u001b[0m \u001b[1;33m**\u001b[0m\u001b[0mkwargs\u001b[0m\u001b[1;33m)\u001b[0m\u001b[1;33m\u001b[0m\u001b[0m\n\u001b[0m\u001b[0;32m     73\u001b[0m \u001b[1;33m\u001b[0m\u001b[0m\n\u001b[0;32m     74\u001b[0m \u001b[1;33m\u001b[0m\u001b[0m\n",
      "\u001b[1;32m~\\Anaconda3\\envs\\pythondata\\lib\\site-packages\\requests\\api.py\u001b[0m in \u001b[0;36mrequest\u001b[1;34m(method, url, **kwargs)\u001b[0m\n\u001b[0;32m     56\u001b[0m     \u001b[1;31m# cases, and look like a memory leak in others.\u001b[0m\u001b[1;33m\u001b[0m\u001b[1;33m\u001b[0m\u001b[0m\n\u001b[0;32m     57\u001b[0m     \u001b[1;32mwith\u001b[0m \u001b[0msessions\u001b[0m\u001b[1;33m.\u001b[0m\u001b[0mSession\u001b[0m\u001b[1;33m(\u001b[0m\u001b[1;33m)\u001b[0m \u001b[1;32mas\u001b[0m \u001b[0msession\u001b[0m\u001b[1;33m:\u001b[0m\u001b[1;33m\u001b[0m\u001b[0m\n\u001b[1;32m---> 58\u001b[1;33m         \u001b[1;32mreturn\u001b[0m \u001b[0msession\u001b[0m\u001b[1;33m.\u001b[0m\u001b[0mrequest\u001b[0m\u001b[1;33m(\u001b[0m\u001b[0mmethod\u001b[0m\u001b[1;33m=\u001b[0m\u001b[0mmethod\u001b[0m\u001b[1;33m,\u001b[0m \u001b[0murl\u001b[0m\u001b[1;33m=\u001b[0m\u001b[0murl\u001b[0m\u001b[1;33m,\u001b[0m \u001b[1;33m**\u001b[0m\u001b[0mkwargs\u001b[0m\u001b[1;33m)\u001b[0m\u001b[1;33m\u001b[0m\u001b[0m\n\u001b[0m\u001b[0;32m     59\u001b[0m \u001b[1;33m\u001b[0m\u001b[0m\n\u001b[0;32m     60\u001b[0m \u001b[1;33m\u001b[0m\u001b[0m\n",
      "\u001b[1;32m~\\Anaconda3\\envs\\pythondata\\lib\\site-packages\\requests\\sessions.py\u001b[0m in \u001b[0;36mrequest\u001b[1;34m(self, method, url, params, data, headers, cookies, files, auth, timeout, allow_redirects, proxies, hooks, stream, verify, cert, json)\u001b[0m\n\u001b[0;32m    492\u001b[0m             \u001b[0mhooks\u001b[0m\u001b[1;33m=\u001b[0m\u001b[0mhooks\u001b[0m\u001b[1;33m,\u001b[0m\u001b[1;33m\u001b[0m\u001b[0m\n\u001b[0;32m    493\u001b[0m         )\n\u001b[1;32m--> 494\u001b[1;33m         \u001b[0mprep\u001b[0m \u001b[1;33m=\u001b[0m \u001b[0mself\u001b[0m\u001b[1;33m.\u001b[0m\u001b[0mprepare_request\u001b[0m\u001b[1;33m(\u001b[0m\u001b[0mreq\u001b[0m\u001b[1;33m)\u001b[0m\u001b[1;33m\u001b[0m\u001b[0m\n\u001b[0m\u001b[0;32m    495\u001b[0m \u001b[1;33m\u001b[0m\u001b[0m\n\u001b[0;32m    496\u001b[0m         \u001b[0mproxies\u001b[0m \u001b[1;33m=\u001b[0m \u001b[0mproxies\u001b[0m \u001b[1;32mor\u001b[0m \u001b[1;33m{\u001b[0m\u001b[1;33m}\u001b[0m\u001b[1;33m\u001b[0m\u001b[0m\n",
      "\u001b[1;32m~\\Anaconda3\\envs\\pythondata\\lib\\site-packages\\requests\\sessions.py\u001b[0m in \u001b[0;36mprepare_request\u001b[1;34m(self, request)\u001b[0m\n\u001b[0;32m    422\u001b[0m         \u001b[0mauth\u001b[0m \u001b[1;33m=\u001b[0m \u001b[0mrequest\u001b[0m\u001b[1;33m.\u001b[0m\u001b[0mauth\u001b[0m\u001b[1;33m\u001b[0m\u001b[0m\n\u001b[0;32m    423\u001b[0m         \u001b[1;32mif\u001b[0m \u001b[0mself\u001b[0m\u001b[1;33m.\u001b[0m\u001b[0mtrust_env\u001b[0m \u001b[1;32mand\u001b[0m \u001b[1;32mnot\u001b[0m \u001b[0mauth\u001b[0m \u001b[1;32mand\u001b[0m \u001b[1;32mnot\u001b[0m \u001b[0mself\u001b[0m\u001b[1;33m.\u001b[0m\u001b[0mauth\u001b[0m\u001b[1;33m:\u001b[0m\u001b[1;33m\u001b[0m\u001b[0m\n\u001b[1;32m--> 424\u001b[1;33m             \u001b[0mauth\u001b[0m \u001b[1;33m=\u001b[0m \u001b[0mget_netrc_auth\u001b[0m\u001b[1;33m(\u001b[0m\u001b[0mrequest\u001b[0m\u001b[1;33m.\u001b[0m\u001b[0murl\u001b[0m\u001b[1;33m)\u001b[0m\u001b[1;33m\u001b[0m\u001b[0m\n\u001b[0m\u001b[0;32m    425\u001b[0m \u001b[1;33m\u001b[0m\u001b[0m\n\u001b[0;32m    426\u001b[0m         \u001b[0mp\u001b[0m \u001b[1;33m=\u001b[0m \u001b[0mPreparedRequest\u001b[0m\u001b[1;33m(\u001b[0m\u001b[1;33m)\u001b[0m\u001b[1;33m\u001b[0m\u001b[0m\n",
      "\u001b[1;32m~\\Anaconda3\\envs\\pythondata\\lib\\site-packages\\requests\\utils.py\u001b[0m in \u001b[0;36mget_netrc_auth\u001b[1;34m(url, raise_errors)\u001b[0m\n\u001b[0;32m    183\u001b[0m             \u001b[1;32mreturn\u001b[0m\u001b[1;33m\u001b[0m\u001b[0m\n\u001b[0;32m    184\u001b[0m \u001b[1;33m\u001b[0m\u001b[0m\n\u001b[1;32m--> 185\u001b[1;33m         \u001b[0mri\u001b[0m \u001b[1;33m=\u001b[0m \u001b[0murlparse\u001b[0m\u001b[1;33m(\u001b[0m\u001b[0murl\u001b[0m\u001b[1;33m)\u001b[0m\u001b[1;33m\u001b[0m\u001b[0m\n\u001b[0m\u001b[0;32m    186\u001b[0m \u001b[1;33m\u001b[0m\u001b[0m\n\u001b[0;32m    187\u001b[0m         \u001b[1;31m# Strip port numbers from netloc. This weird `if...encode`` dance is\u001b[0m\u001b[1;33m\u001b[0m\u001b[1;33m\u001b[0m\u001b[0m\n",
      "\u001b[1;32m~\\Anaconda3\\envs\\pythondata\\lib\\urllib\\parse.py\u001b[0m in \u001b[0;36murlparse\u001b[1;34m(url, scheme, allow_fragments)\u001b[0m\n\u001b[0;32m    363\u001b[0m     \u001b[0mNote\u001b[0m \u001b[0mthat\u001b[0m \u001b[0mwe\u001b[0m \u001b[0mdon\u001b[0m\u001b[0;31m'\u001b[0m\u001b[0mt\u001b[0m \u001b[1;32mbreak\u001b[0m \u001b[0mthe\u001b[0m \u001b[0mcomponents\u001b[0m \u001b[0mup\u001b[0m \u001b[1;32min\u001b[0m \u001b[0msmaller\u001b[0m \u001b[0mbits\u001b[0m\u001b[1;33m\u001b[0m\u001b[0m\n\u001b[0;32m    364\u001b[0m     (e.g. netloc is a single string) and we don't expand % escapes.\"\"\"\n\u001b[1;32m--> 365\u001b[1;33m     \u001b[0murl\u001b[0m\u001b[1;33m,\u001b[0m \u001b[0mscheme\u001b[0m\u001b[1;33m,\u001b[0m \u001b[0m_coerce_result\u001b[0m \u001b[1;33m=\u001b[0m \u001b[0m_coerce_args\u001b[0m\u001b[1;33m(\u001b[0m\u001b[0murl\u001b[0m\u001b[1;33m,\u001b[0m \u001b[0mscheme\u001b[0m\u001b[1;33m)\u001b[0m\u001b[1;33m\u001b[0m\u001b[0m\n\u001b[0m\u001b[0;32m    366\u001b[0m     \u001b[0msplitresult\u001b[0m \u001b[1;33m=\u001b[0m \u001b[0murlsplit\u001b[0m\u001b[1;33m(\u001b[0m\u001b[0murl\u001b[0m\u001b[1;33m,\u001b[0m \u001b[0mscheme\u001b[0m\u001b[1;33m,\u001b[0m \u001b[0mallow_fragments\u001b[0m\u001b[1;33m)\u001b[0m\u001b[1;33m\u001b[0m\u001b[0m\n\u001b[0;32m    367\u001b[0m     \u001b[0mscheme\u001b[0m\u001b[1;33m,\u001b[0m \u001b[0mnetloc\u001b[0m\u001b[1;33m,\u001b[0m \u001b[0murl\u001b[0m\u001b[1;33m,\u001b[0m \u001b[0mquery\u001b[0m\u001b[1;33m,\u001b[0m \u001b[0mfragment\u001b[0m \u001b[1;33m=\u001b[0m \u001b[0msplitresult\u001b[0m\u001b[1;33m\u001b[0m\u001b[0m\n",
      "\u001b[1;32m~\\Anaconda3\\envs\\pythondata\\lib\\urllib\\parse.py\u001b[0m in \u001b[0;36m_coerce_args\u001b[1;34m(*args)\u001b[0m\n\u001b[0;32m    121\u001b[0m     \u001b[1;32mif\u001b[0m \u001b[0mstr_input\u001b[0m\u001b[1;33m:\u001b[0m\u001b[1;33m\u001b[0m\u001b[0m\n\u001b[0;32m    122\u001b[0m         \u001b[1;32mreturn\u001b[0m \u001b[0margs\u001b[0m \u001b[1;33m+\u001b[0m \u001b[1;33m(\u001b[0m\u001b[0m_noop\u001b[0m\u001b[1;33m,\u001b[0m\u001b[1;33m)\u001b[0m\u001b[1;33m\u001b[0m\u001b[0m\n\u001b[1;32m--> 123\u001b[1;33m     \u001b[1;32mreturn\u001b[0m \u001b[0m_decode_args\u001b[0m\u001b[1;33m(\u001b[0m\u001b[0margs\u001b[0m\u001b[1;33m)\u001b[0m \u001b[1;33m+\u001b[0m \u001b[1;33m(\u001b[0m\u001b[0m_encode_result\u001b[0m\u001b[1;33m,\u001b[0m\u001b[1;33m)\u001b[0m\u001b[1;33m\u001b[0m\u001b[0m\n\u001b[0m\u001b[0;32m    124\u001b[0m \u001b[1;33m\u001b[0m\u001b[0m\n\u001b[0;32m    125\u001b[0m \u001b[1;31m# Result objects are more helpful than simple tuples\u001b[0m\u001b[1;33m\u001b[0m\u001b[1;33m\u001b[0m\u001b[0m\n",
      "\u001b[1;32m~\\Anaconda3\\envs\\pythondata\\lib\\urllib\\parse.py\u001b[0m in \u001b[0;36m_decode_args\u001b[1;34m(args, encoding, errors)\u001b[0m\n\u001b[0;32m    105\u001b[0m def _decode_args(args, encoding=_implicit_encoding,\n\u001b[0;32m    106\u001b[0m                        errors=_implicit_errors):\n\u001b[1;32m--> 107\u001b[1;33m     \u001b[1;32mreturn\u001b[0m \u001b[0mtuple\u001b[0m\u001b[1;33m(\u001b[0m\u001b[0mx\u001b[0m\u001b[1;33m.\u001b[0m\u001b[0mdecode\u001b[0m\u001b[1;33m(\u001b[0m\u001b[0mencoding\u001b[0m\u001b[1;33m,\u001b[0m \u001b[0merrors\u001b[0m\u001b[1;33m)\u001b[0m \u001b[1;32mif\u001b[0m \u001b[0mx\u001b[0m \u001b[1;32melse\u001b[0m \u001b[1;34m''\u001b[0m \u001b[1;32mfor\u001b[0m \u001b[0mx\u001b[0m \u001b[1;32min\u001b[0m \u001b[0margs\u001b[0m\u001b[1;33m)\u001b[0m\u001b[1;33m\u001b[0m\u001b[0m\n\u001b[0m\u001b[0;32m    108\u001b[0m \u001b[1;33m\u001b[0m\u001b[0m\n\u001b[0;32m    109\u001b[0m \u001b[1;32mdef\u001b[0m \u001b[0m_coerce_args\u001b[0m\u001b[1;33m(\u001b[0m\u001b[1;33m*\u001b[0m\u001b[0margs\u001b[0m\u001b[1;33m)\u001b[0m\u001b[1;33m:\u001b[0m\u001b[1;33m\u001b[0m\u001b[0m\n",
      "\u001b[1;32m~\\Anaconda3\\envs\\pythondata\\lib\\urllib\\parse.py\u001b[0m in \u001b[0;36m<genexpr>\u001b[1;34m(.0)\u001b[0m\n\u001b[0;32m    105\u001b[0m def _decode_args(args, encoding=_implicit_encoding,\n\u001b[0;32m    106\u001b[0m                        errors=_implicit_errors):\n\u001b[1;32m--> 107\u001b[1;33m     \u001b[1;32mreturn\u001b[0m \u001b[0mtuple\u001b[0m\u001b[1;33m(\u001b[0m\u001b[0mx\u001b[0m\u001b[1;33m.\u001b[0m\u001b[0mdecode\u001b[0m\u001b[1;33m(\u001b[0m\u001b[0mencoding\u001b[0m\u001b[1;33m,\u001b[0m \u001b[0merrors\u001b[0m\u001b[1;33m)\u001b[0m \u001b[1;32mif\u001b[0m \u001b[0mx\u001b[0m \u001b[1;32melse\u001b[0m \u001b[1;34m''\u001b[0m \u001b[1;32mfor\u001b[0m \u001b[0mx\u001b[0m \u001b[1;32min\u001b[0m \u001b[0margs\u001b[0m\u001b[1;33m)\u001b[0m\u001b[1;33m\u001b[0m\u001b[0m\n\u001b[0m\u001b[0;32m    108\u001b[0m \u001b[1;33m\u001b[0m\u001b[0m\n\u001b[0;32m    109\u001b[0m \u001b[1;32mdef\u001b[0m \u001b[0m_coerce_args\u001b[0m\u001b[1;33m(\u001b[0m\u001b[1;33m*\u001b[0m\u001b[0margs\u001b[0m\u001b[1;33m)\u001b[0m\u001b[1;33m:\u001b[0m\u001b[1;33m\u001b[0m\u001b[0m\n",
      "\u001b[1;32m~\\Anaconda3\\envs\\pythondata\\lib\\site-packages\\pandas\\core\\generic.py\u001b[0m in \u001b[0;36m__nonzero__\u001b[1;34m(self)\u001b[0m\n\u001b[0;32m    953\u001b[0m         raise ValueError(\"The truth value of a {0} is ambiguous. \"\n\u001b[0;32m    954\u001b[0m                          \u001b[1;34m\"Use a.empty, a.bool(), a.item(), a.any() or a.all().\"\u001b[0m\u001b[1;33m\u001b[0m\u001b[0m\n\u001b[1;32m--> 955\u001b[1;33m                          .format(self.__class__.__name__))\n\u001b[0m\u001b[0;32m    956\u001b[0m \u001b[1;33m\u001b[0m\u001b[0m\n\u001b[0;32m    957\u001b[0m     \u001b[0m__bool__\u001b[0m \u001b[1;33m=\u001b[0m \u001b[0m__nonzero__\u001b[0m\u001b[1;33m\u001b[0m\u001b[0m\n",
      "\u001b[1;31mValueError\u001b[0m: The truth value of a Series is ambiguous. Use a.empty, a.bool(), a.item(), a.any() or a.all()."
     ]
    }
   ],
   "source": [
    "# Loop through tickers and articles\n",
    "\n",
    "# Counter\n",
    "row_count = 0\n",
    "\n",
    "for index, row in stock_price_pd.iterrows():\n",
    "    t = stock_price_pd[\"Ticker\"]\n",
    "    Open_Date = stock_price_pd[\"Open_Date\"]\n",
    "    Close_Date = stock_price_pd[\"Close_Date\"]\n",
    "    \n",
    "    query = url + \"&t=\" + t + \"&Open_Date=\" + Open_Date + \"&Close_Date=\" + Close_Date\n",
    "    print(query)\n",
    "\n",
    "    #Get article data\n",
    "    article_response = req.get(url)\n",
    "    article_json = article_response.json()\n",
    "    articles = req.get(query).json()[\"articles\"][0][\"description\"]\n",
    "    \n",
    "    # Store the article count into the Data Frame\n",
    "    stock_price_pd.set_value(index, \"Article_Count\", article_count)\n",
    "                                             \n",
    "\n",
    "    # Run Vader Analysis with While loop\n",
    "    while article in articles:\n",
    "            Article_Sentiment = article_json[\"response\"][0][\"docs\"]\n",
    "            compound = analyzer.polarity_scores(Article_Sentiment)[\"compound\"]\n",
    "            pos = analyzer.polarity_scores(Article_Sentiment)[\"pos\"]\n",
    "            neu = analyzer.polarity_scores(Article_Sentiment)[\"neu\"]\n",
    "            neg = analyzer.polarity_scores(Article_Sentiment)[\"neg\"]\n",
    "    \n",
    "            Sentiment_Summation = compound \n",
    "    \n",
    "    try: \n",
    "        stock_price_pd.set_value(index, \"Sentiment_Summation\", Sentiment_Summation)\n",
    "      \n",
    "    \n",
    "    except:\n",
    "        #print(\"Error with data. Skipping\")\n",
    "        continue\n",
    "\n",
    "    # Reset row count\n",
    "    row_count = 0"
   ]
  },
  {
   "cell_type": "code",
   "execution_count": null,
   "metadata": {
    "collapsed": true
   },
   "outputs": [],
   "source": []
  }
 ],
 "metadata": {
  "kernelspec": {
   "display_name": "Python 3",
   "language": "python",
   "name": "python3"
  },
  "language_info": {
   "codemirror_mode": {
    "name": "ipython",
    "version": 3
   },
   "file_extension": ".py",
   "mimetype": "text/x-python",
   "name": "python",
   "nbconvert_exporter": "python",
   "pygments_lexer": "ipython3",
   "version": "3.6.3"
  }
 },
 "nbformat": 4,
 "nbformat_minor": 2
}
