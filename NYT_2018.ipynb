{
 "cells": [
  {
   "cell_type": "code",
   "execution_count": 1,
   "metadata": {
    "collapsed": true
   },
   "outputs": [],
   "source": [
    "# Dependencies\n",
    "import requests as req\n",
    "import numpy as np\n",
    "import pandas as pd\n",
    "import json\n",
    "import time\n",
    "import os\n",
    "import nltk.data"
   ]
  },
  {
   "cell_type": "markdown",
   "metadata": {},
   "source": [
    "# TEST"
   ]
  },
  {
   "cell_type": "code",
   "execution_count": 2,
   "metadata": {
    "collapsed": true
   },
   "outputs": [],
   "source": [
    "# TEST NYT URL\n",
    "url = \"https://api.nytimes.com/svc/search/v2/articlesearch.json?\"\n",
    "api_key = \"150fadacaba14946b20ef8c25cb8e6de\""
   ]
  },
  {
   "cell_type": "code",
   "execution_count": 3,
   "metadata": {
    "collapsed": true
   },
   "outputs": [],
   "source": [
    "# TEST search with one ticker\n",
    "q = \"IBM\""
   ]
  },
  {
   "cell_type": "code",
   "execution_count": 4,
   "metadata": {
    "collapsed": true
   },
   "outputs": [],
   "source": [
    "# TEST dates with fixed dates\n",
    "begin_date = \"20180115\"\n",
    "end_date = \"20180119\""
   ]
  },
  {
   "cell_type": "code",
   "execution_count": 5,
   "metadata": {},
   "outputs": [
    {
     "name": "stdout",
     "output_type": "stream",
     "text": [
      "https://api.nytimes.com/svc/search/v2/articlesearch.json?api-key=150fadacaba14946b20ef8c25cb8e6de&q=IBM&begin_date=20180115&end_date=20180119\n"
     ]
    }
   ],
   "source": [
    "# Test NYT query URL with one ticker\n",
    "query = url + \"api-key=\" + api_key + \"&q=\" + q + \"&begin_date=\" + begin_date + \"&end_date=\" + end_date\n",
    "print(query)"
   ]
  },
  {
   "cell_type": "code",
   "execution_count": 6,
   "metadata": {},
   "outputs": [
    {
     "name": "stdout",
     "output_type": "stream",
     "text": [
      "https://api.nytimes.com/svc/search/v2/articlesearch.json?api-key=150fadacaba14946b20ef8c25cb8e6de&q=IBM&begin_date=20180115&end_date=20180119\n",
      "A snippet from the article: 'Shares in International Business Machines rose nearly 2 percent on Wednesday, helped by a double-notch upgrade for the company from Barclays ahead of fourth-quarter results on Thursday.'.\n",
      "\n",
      "A snippet from the article: 'IBM reported its first quarter of revenue growth in more than five years as the company ramps up its cloud computing business and looks for new opportunities from its investments in artificial intelligence.'.\n",
      "\n",
      "A snippet from the article: 'The world's largest container shipping firm A.P. Moller-Maersk is teaming up with IBM to create an industry-wide trading platform it says can speed up trade and save billions of dollars.'.\n",
      "\n",
      "A snippet from the article: 'For five and half years IBM has reported a steady erosion of revenue, a losing streak that analysts predict will end on Thursday.'.\n",
      "\n",
      "A snippet from the article: 'The gain was modest — revenue rose by 4 percent — but the company’s fourth-quarter report is a sign that IBM’s finances are stabilizing.'.\n",
      "\n",
      "A snippet from the article: 'International Business Machines Corp's revenue rose for the first time in 23 quarters, beating analysts' estimates, but the company warned that a higher tax rate this year would eat into its profit.'.\n",
      "\n",
      "A snippet from the article: 'Technology is advancing by leaps and bounds.'.\n",
      "\n",
      "A snippet from the article: 'Asian stock markets were uneven and the dollar fell on Friday following Wall Street's retreat as the threat of a U.S. federal government shutdown loomed on the weekend.'.\n",
      "\n",
      "A snippet from the article: 'Avaya Holdings Corp shares started trading on Wednesday on the New York Stock Exchange, the first time the enterprise telecommunications provider has been public in more than a decade.'.\n",
      "\n",
      "A snippet from the article: 'Wall Street fell on Thursday as losses in industrials and interest-rate sensitive sectors offset marginal gains in tech stocks.'.\n",
      "\n"
     ]
    }
   ],
   "source": [
    "# NYT Query\n",
    "query = url + \"api-key=\" + api_key + \"&q=\" + q + \"&begin_date=\" + begin_date + \"&end_date=\" + end_date\n",
    "\n",
    "print(query)\n",
    "# Retrieve articles\n",
    "articles = req.get(query).json()[\"response\"][\"docs\"]\n",
    "\n",
    "for article in articles:\n",
    "    print(\"A snippet from the article: '\" + article[\"snippet\"] + \"'.\\n\")"
   ]
  },
  {
   "cell_type": "code",
   "execution_count": 7,
   "metadata": {},
   "outputs": [
    {
     "name": "stdout",
     "output_type": "stream",
     "text": [
      "7\n"
     ]
    }
   ],
   "source": [
    "# Test article count\n",
    "article_count = len(\"snippet\")\n",
    "print(article_count)"
   ]
  },
  {
   "cell_type": "code",
   "execution_count": 8,
   "metadata": {},
   "outputs": [
    {
     "name": "stdout",
     "output_type": "stream",
     "text": [
      "C:\\Users\\craig\\Desktop\\PythonCode\\python-challenge\\corporate_failure_bounce\\vaderSentiment_master\n"
     ]
    }
   ],
   "source": [
    "cd vaderSentiment_master"
   ]
  },
  {
   "cell_type": "code",
   "execution_count": 9,
   "metadata": {},
   "outputs": [
    {
     "name": "stdout",
     "output_type": "stream",
     "text": [
      "C:\\Users\\craig\\Desktop\\PythonCode\\python-challenge\\corporate_failure_bounce\\vaderSentiment_master\\vaderSentiment\n"
     ]
    }
   ],
   "source": [
    "cd vaderSentiment"
   ]
  },
  {
   "cell_type": "code",
   "execution_count": 10,
   "metadata": {
    "collapsed": true
   },
   "outputs": [],
   "source": [
    "import vaderSentiment"
   ]
  },
  {
   "cell_type": "code",
   "execution_count": 11,
   "metadata": {
    "collapsed": true
   },
   "outputs": [],
   "source": [
    "# Import and Initialize Sentiment Analyzer\n",
    "from vaderSentiment import SentimentIntensityAnalyzer\n",
    "analyzer = SentimentIntensityAnalyzer()"
   ]
  },
  {
   "cell_type": "code",
   "execution_count": 12,
   "metadata": {},
   "outputs": [
    {
     "name": "stdout",
     "output_type": "stream",
     "text": [
      "Compound Score: -0.0772\n",
      "Positive Score: 0.109\n",
      "Neutral Score: 0.769\n",
      "Negative Score: 0.122\n"
     ]
    }
   ],
   "source": [
    "# Test Vader Analysis without  loop\n",
    "\n",
    "Article_Sentiment = article[\"snippet\"]\n",
    "compound = analyzer.polarity_scores(Article_Sentiment)[\"compound\"]\n",
    "pos = analyzer.polarity_scores(Article_Sentiment)[\"pos\"]\n",
    "neu = analyzer.polarity_scores(Article_Sentiment)[\"neu\"]\n",
    "neg = analyzer.polarity_scores(Article_Sentiment)[\"neg\"]\n",
    "            \n",
    "# Print Analysis\n",
    "print(\"Compound Score: %s\" % compound)\n",
    "print(\"Positive Score: %s\" % pos)\n",
    "print(\"Neutral Score: %s\" % neu)\n",
    "print(\"Negative Score: %s\" % neg)"
   ]
  },
  {
   "cell_type": "code",
   "execution_count": 13,
   "metadata": {},
   "outputs": [
    {
     "name": "stdout",
     "output_type": "stream",
     "text": [
      "-0.0772\n"
     ]
    }
   ],
   "source": [
    "Sentiment_Summation = compound \n",
    "print(Sentiment_Summation)"
   ]
  },
  {
   "cell_type": "markdown",
   "metadata": {},
   "source": [
    "# PRODUCTION"
   ]
  },
  {
   "cell_type": "code",
   "execution_count": 21,
   "metadata": {},
   "outputs": [],
   "source": [
    "# Change to project root directory\n",
    "# ls"
   ]
  },
  {
   "cell_type": "code",
   "execution_count": 22,
   "metadata": {},
   "outputs": [],
   "source": [
    "# Change to project root directory\n",
    "#cd .."
   ]
  },
  {
   "cell_type": "code",
   "execution_count": 23,
   "metadata": {},
   "outputs": [
    {
     "data": {
      "text/html": [
       "<div>\n",
       "<style>\n",
       "    .dataframe thead tr:only-child th {\n",
       "        text-align: right;\n",
       "    }\n",
       "\n",
       "    .dataframe thead th {\n",
       "        text-align: left;\n",
       "    }\n",
       "\n",
       "    .dataframe tbody tr th {\n",
       "        vertical-align: top;\n",
       "    }\n",
       "</style>\n",
       "<table border=\"1\" class=\"dataframe\">\n",
       "  <thead>\n",
       "    <tr style=\"text-align: right;\">\n",
       "      <th></th>\n",
       "      <th>Unnamed: 0</th>\n",
       "      <th>Ticker</th>\n",
       "      <th>Opening Price</th>\n",
       "      <th>Closing Price</th>\n",
       "      <th>Close_Date</th>\n",
       "      <th>Open_Date</th>\n",
       "    </tr>\n",
       "  </thead>\n",
       "  <tbody>\n",
       "    <tr>\n",
       "      <th>0</th>\n",
       "      <td>0</td>\n",
       "      <td>MRC</td>\n",
       "      <td>17.34</td>\n",
       "      <td>15.29</td>\n",
       "      <td>6/23/2017</td>\n",
       "      <td>6/16/2017</td>\n",
       "    </tr>\n",
       "    <tr>\n",
       "      <th>1</th>\n",
       "      <td>1</td>\n",
       "      <td>MRC</td>\n",
       "      <td>10.08</td>\n",
       "      <td>8.94</td>\n",
       "      <td>2/12/2016</td>\n",
       "      <td>2/5/2016</td>\n",
       "    </tr>\n",
       "    <tr>\n",
       "      <th>2</th>\n",
       "      <td>2</td>\n",
       "      <td>MRC</td>\n",
       "      <td>12.78</td>\n",
       "      <td>11.38</td>\n",
       "      <td>1/8/2016</td>\n",
       "      <td>1/1/2016</td>\n",
       "    </tr>\n",
       "    <tr>\n",
       "      <th>3</th>\n",
       "      <td>3</td>\n",
       "      <td>MRC</td>\n",
       "      <td>12.84</td>\n",
       "      <td>11.35</td>\n",
       "      <td>8/21/2015</td>\n",
       "      <td>8/14/2015</td>\n",
       "    </tr>\n",
       "    <tr>\n",
       "      <th>4</th>\n",
       "      <td>4</td>\n",
       "      <td>MRC</td>\n",
       "      <td>14.98</td>\n",
       "      <td>13.22</td>\n",
       "      <td>7/24/2015</td>\n",
       "      <td>7/17/2015</td>\n",
       "    </tr>\n",
       "  </tbody>\n",
       "</table>\n",
       "</div>"
      ],
      "text/plain": [
       "   Unnamed: 0 Ticker  Opening Price  Closing Price Close_Date  Open_Date\n",
       "0           0    MRC          17.34          15.29  6/23/2017  6/16/2017\n",
       "1           1    MRC          10.08           8.94  2/12/2016   2/5/2016\n",
       "2           2    MRC          12.78          11.38   1/8/2016   1/1/2016\n",
       "3           3    MRC          12.84          11.35  8/21/2015  8/14/2015\n",
       "4           4    MRC          14.98          13.22  7/24/2015  7/17/2015"
      ]
     },
     "execution_count": 23,
     "metadata": {},
     "output_type": "execute_result"
    }
   ],
   "source": [
    "# Import csv to stock_price_pd\n",
    "stock_price_pd = pd.read_csv(\"price drops.csv\")\n",
    "\n",
    "# Preview the data\n",
    "stock_price_pd.head()"
   ]
  },
  {
   "cell_type": "code",
   "execution_count": 24,
   "metadata": {},
   "outputs": [
    {
     "data": {
      "text/html": [
       "<div>\n",
       "<style>\n",
       "    .dataframe thead tr:only-child th {\n",
       "        text-align: right;\n",
       "    }\n",
       "\n",
       "    .dataframe thead th {\n",
       "        text-align: left;\n",
       "    }\n",
       "\n",
       "    .dataframe tbody tr th {\n",
       "        vertical-align: top;\n",
       "    }\n",
       "</style>\n",
       "<table border=\"1\" class=\"dataframe\">\n",
       "  <thead>\n",
       "    <tr style=\"text-align: right;\">\n",
       "      <th></th>\n",
       "      <th>Unnamed: 0</th>\n",
       "      <th>Ticker</th>\n",
       "      <th>Opening Price</th>\n",
       "      <th>Closing Price</th>\n",
       "      <th>Close_Date</th>\n",
       "      <th>Open_Date</th>\n",
       "      <th>Article_Count</th>\n",
       "      <th>Article_Avg_Sentiment</th>\n",
       "      <th>Sentiment_Summation</th>\n",
       "    </tr>\n",
       "  </thead>\n",
       "  <tbody>\n",
       "    <tr>\n",
       "      <th>0</th>\n",
       "      <td>0</td>\n",
       "      <td>MRC</td>\n",
       "      <td>17.34</td>\n",
       "      <td>15.29</td>\n",
       "      <td>6/23/2017</td>\n",
       "      <td>6/16/2017</td>\n",
       "      <td></td>\n",
       "      <td></td>\n",
       "      <td></td>\n",
       "    </tr>\n",
       "    <tr>\n",
       "      <th>1</th>\n",
       "      <td>1</td>\n",
       "      <td>MRC</td>\n",
       "      <td>10.08</td>\n",
       "      <td>8.94</td>\n",
       "      <td>2/12/2016</td>\n",
       "      <td>2/5/2016</td>\n",
       "      <td></td>\n",
       "      <td></td>\n",
       "      <td></td>\n",
       "    </tr>\n",
       "    <tr>\n",
       "      <th>2</th>\n",
       "      <td>2</td>\n",
       "      <td>MRC</td>\n",
       "      <td>12.78</td>\n",
       "      <td>11.38</td>\n",
       "      <td>1/8/2016</td>\n",
       "      <td>1/1/2016</td>\n",
       "      <td></td>\n",
       "      <td></td>\n",
       "      <td></td>\n",
       "    </tr>\n",
       "    <tr>\n",
       "      <th>3</th>\n",
       "      <td>3</td>\n",
       "      <td>MRC</td>\n",
       "      <td>12.84</td>\n",
       "      <td>11.35</td>\n",
       "      <td>8/21/2015</td>\n",
       "      <td>8/14/2015</td>\n",
       "      <td></td>\n",
       "      <td></td>\n",
       "      <td></td>\n",
       "    </tr>\n",
       "    <tr>\n",
       "      <th>4</th>\n",
       "      <td>4</td>\n",
       "      <td>MRC</td>\n",
       "      <td>14.98</td>\n",
       "      <td>13.22</td>\n",
       "      <td>7/24/2015</td>\n",
       "      <td>7/17/2015</td>\n",
       "      <td></td>\n",
       "      <td></td>\n",
       "      <td></td>\n",
       "    </tr>\n",
       "  </tbody>\n",
       "</table>\n",
       "</div>"
      ],
      "text/plain": [
       "   Unnamed: 0 Ticker  Opening Price  Closing Price Close_Date  Open_Date  \\\n",
       "0           0    MRC          17.34          15.29  6/23/2017  6/16/2017   \n",
       "1           1    MRC          10.08           8.94  2/12/2016   2/5/2016   \n",
       "2           2    MRC          12.78          11.38   1/8/2016   1/1/2016   \n",
       "3           3    MRC          12.84          11.35  8/21/2015  8/14/2015   \n",
       "4           4    MRC          14.98          13.22  7/24/2015  7/17/2015   \n",
       "\n",
       "  Article_Count Article_Avg_Sentiment Sentiment_Summation  \n",
       "0                                                          \n",
       "1                                                          \n",
       "2                                                          \n",
       "3                                                          \n",
       "4                                                          "
      ]
     },
     "execution_count": 24,
     "metadata": {},
     "output_type": "execute_result"
    }
   ],
   "source": [
    "#Add columns for Article Description\n",
    "stock_price_pd[\"Article_Count\"] = \"\"\n",
    "stock_price_pd[\"Article_Avg_Sentiment\"] = \"\"\n",
    "stock_price_pd[\"Sentiment_Summation\"] = \"\"\n",
    "stock_price_pd.head()"
   ]
  },
  {
   "cell_type": "code",
   "execution_count": null,
   "metadata": {
    "collapsed": true
   },
   "outputs": [],
   "source": [
    "# Set dataframe variables for query\n",
    "q = stock_price_pd[\"Ticker\"]\n",
    "Open_Date = stock_price_pd[\"Open_Date\"]\n",
    "Close_Date = stock_price_pd[\"Close_Date\"]"
   ]
  },
  {
   "cell_type": "code",
   "execution_count": 31,
   "metadata": {},
   "outputs": [
    {
     "ename": "IndentationError",
     "evalue": "unexpected indent (<ipython-input-31-f6c5fcfcac00>, line 13)",
     "output_type": "error",
     "traceback": [
      "\u001b[1;36m  File \u001b[1;32m\"<ipython-input-31-f6c5fcfcac00>\"\u001b[1;36m, line \u001b[1;32m13\u001b[0m\n\u001b[1;33m    for article in articles:\u001b[0m\n\u001b[1;37m    ^\u001b[0m\n\u001b[1;31mIndentationError\u001b[0m\u001b[1;31m:\u001b[0m unexpected indent\n"
     ]
    }
   ],
   "source": [
    "# Loop through and run search to get all articles\n",
    "\n",
    "# Counter\n",
    "row_count = 0\n",
    "\n",
    "for index, row in stock_price_pd.iterrows():\n",
    "    query = url + \"api-key=\" + api_key + \"&q=\" + q + \"&begin_date=\" + begin_date + \"&end_date=\" + end_date\n",
    "print(query)\n",
    "\n",
    "#Get article data\n",
    "articles = req.get(query).json()[\"response\"][\"docs\"]\n",
    "        \n",
    "    for article in articles:\n",
    "        print(\"A snippet from the article: '\" + article[\"snippet\"] + \"'.\\n\")\n",
    "        \n",
    "    # Store the article count into the Data Frame\n",
    "        stock_price_pd.set_value(index, \"Article_Count\", article_count)\n",
    "\n",
    "        # Run Vader Analysis with While loop\n",
    "            while article in articles:\n",
    "            Article_Sentiment = article[\"snippet\"]\n",
    "            compound = analyzer.polarity_scores(Article_Sentiment)[\"compound\"]\n",
    "            pos = analyzer.polarity_scores(Article_Sentiment)[\"pos\"]\n",
    "            neu = analyzer.polarity_scores(Article_Sentiment)[\"neu\"]\n",
    "            neg = analyzer.polarity_scores(Article_Sentiment)[\"neg\"]\n",
    "            # Capture Compound Value in Sentiment_Summation\n",
    "            Sentiment_Summation = compound \n",
    "    try: \n",
    "        stock_price_pd.set_value(index, \"Sentiment_Summation\")\n",
    "      \n",
    "    except:\n",
    "        #print(\"Error with data. Skipping\")\n",
    "        continue  \n",
    "        \n",
    "# Reset acticle count\n",
    "row_count = 0"
   ]
  },
  {
   "cell_type": "code",
   "execution_count": null,
   "metadata": {
    "collapsed": true
   },
   "outputs": [],
   "source": []
  }
 ],
 "metadata": {
  "kernelspec": {
   "display_name": "Python 3",
   "language": "python",
   "name": "python3"
  },
  "language_info": {
   "codemirror_mode": {
    "name": "ipython",
    "version": 3
   },
   "file_extension": ".py",
   "mimetype": "text/x-python",
   "name": "python",
   "nbconvert_exporter": "python",
   "pygments_lexer": "ipython3",
   "version": "3.6.3"
  }
 },
 "nbformat": 4,
 "nbformat_minor": 2
}
